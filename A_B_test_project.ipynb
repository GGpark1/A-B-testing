{
  "cells": [
    {
      "cell_type": "markdown",
      "source": [
        "## 1. 프로젝트 목표 설정\n",
        "\n",
        "### 1) 테스트 진행 전 상황\n",
        "\n",
        "- 온라인 교육을 제공하는 Udacity를 대상으로 A/B 테스트를 진행\n",
        "- 교육 정보를 알려주는 코스 개요 페이지에 1) Start Free Trial과 2) Access Course Material 선택지가 있음\n",
        "    -  Start Free Trial을 선택하면 카드 정보 입력 페이지로 연결되고, 입력을 마치면 14일 뒤에 자동 청구됨\n",
        "    - Access Course Material을 선택하면 무료로 영상을 보고 퀴즈를 풀 수 있지만 코칭이나 인증서 발급을 받을 수 없음 \n",
        "\n",
        "### 2) A/B 테스트 진행 목적\n",
        "\n",
        "- 학생이 'Start Free Trial' 버튼을 누르고 무료 평가판 교육을 진행할 시 교육에 할애할 수 있는 시간을 입력하도록 함\n",
        "- 통상적으로 소요되는 시간보다 적은 시간을 입력 시 해당 교육에 더 많은 시간이 필요하다는 경고 메시지를 출력\n",
        "- 이와 같은 기능을 추가했을 때 교육에 충분한 시간을 쏟을 수 없는 사람이 무료 평가판을 등록하지 않고 떠날 것으로 기대됨\n",
        "\n",
        "### 3) 프로젝트 효과\n",
        "- 코치는 수료가능성이 높은 학생에게 집중할 수 있음\n",
        "\n",
        "### 4) 가설 설정\n",
        "- 귀무가설 : 새로운 기능을 추가하더라도 무료 평가판을 떠나지 않고 등록하는 사람의 수는 변하지 않는다.\n",
        "- 대립가설 : 새로운 기능을 추가하면 무료 평가판을 등록하지 않고 떠나는 사람의 수가 유의미하게 증가한다."
      ],
      "metadata": {
        "id": "GiJkvCXSm8bl"
      }
    },
    {
      "cell_type": "markdown",
      "source": [
        "## 2. 프로젝트 평가 지표 설정\n",
        "### 1) 불변 지표\n",
        "- 두 집단을 편향없이 비교하기 위해 테스트 진행 과정에서 변하지 않고 유지되어야 하는 지표 설정\n",
        " - 코스 개요 페이지의 쿠키 수\n",
        " - 'Start Free Trial' 버튼 클릭 수\n",
        "\n",
        "### 2) 평가 지표\n",
        "- 새로운 기능의 효과를 확인하기 위해 필요한 지표\n",
        " - Gross Conversion : Start Free Trial 버튼 클릭 수 대비 무료 과정 등록 확률\n",
        " - Retention : 무료 평가 과정 등록 대비 유료 결제 확률\n",
        " - Net Conversion : Start Free Trial 버튼 클릭 수 대비 유료 결제 등록 확률\n",
        "\n",
        "### 3) 평가 지표에 대해 baseline 설정\n",
        "- 평가 지표 상의 유의미한 변화가 있더라도 그 변화가 비즈니스 차원에서 유의미한 수익률을 보장해야 함\n",
        "- 기능을 변경하는 비용 대비 평가 지표의 향상 정도가 높지 않다면 기능을 변경할 이유가 없음\n",
        " - Gross Conversion : -0.01\n",
        " - Retention : 0.01\n",
        " - Net Conversion : 0.0075 \n"
      ],
      "metadata": {
        "id": "YJaK_7kPt1E6"
      }
    },
    {
      "cell_type": "markdown",
      "source": [
        "## 3. 프로젝트 진행"
      ],
      "metadata": {
        "id": "3O_UeEYpzjP5"
      }
    },
    {
      "cell_type": "code",
      "execution_count": 2,
      "metadata": {
        "id": "r9Cwg1yOo0Zk"
      },
      "outputs": [],
      "source": [
        "# 모듈 import\n",
        "\n",
        "import math as mt\n",
        "import numpy as np\n",
        "import pandas as pd\n",
        "from scipy.stats import norm\n",
        "import sklearn.utils"
      ]
    },
    {
      "cell_type": "markdown",
      "source": [
        ""
      ],
      "metadata": {
        "id": "TzpedybS214x"
      }
    },
    {
      "cell_type": "markdown",
      "metadata": {
        "id": "Gu9kIkZYo5Ce"
      },
      "source": [
        "### 평가지표를 수립하기 위한 기본 데이터 수집(daily)"
      ]
    },
    {
      "cell_type": "code",
      "execution_count": 3,
      "metadata": {
        "id": "p0y0ghZdo2il"
      },
      "outputs": [],
      "source": [
        "baseline = {\"Cookies\":40000,\"Clicks\":3200,\"Enrollments\":660, \"Payments\":350, \"CTP\":0.08}"
      ]
    },
    {
      "cell_type": "markdown",
      "metadata": {
        "id": "emjiR0VypWOt"
      },
      "source": [
        "### 전체 모수에서 5,000개의 쿠키만 표본으로 사용함\n",
        "- 데이터의 수가 많을 수록 신뢰구간이 좁아지게 됨(데이터가 많을 수록 평균으로 수렴하는 정규분포의 특성)\n",
        "- 신뢰구간이 좁아질 수록 두 집단의 작은 차이도 유의미하게 측정됨\n",
        "- 무의미한 차이를 유의미한 차이로 판정하는 2종 오류를 억제하기 위해 데이터 숫자를 조정함"
      ]
    },
    {
      "cell_type": "code",
      "execution_count": 4,
      "metadata": {
        "colab": {
          "base_uri": "https://localhost:8080/"
        },
        "id": "dSRo6KstpVmE",
        "outputId": "96813bd2-5cbb-48c5-f9d0-8c2fc8584235"
      },
      "outputs": [
        {
          "output_type": "execute_result",
          "data": {
            "text/plain": [
              "{'CTP': 0.08,\n",
              " 'Clicks': 400.0,\n",
              " 'Cookies': 5000,\n",
              " 'Enrollments': 82.5,\n",
              " 'Payments': 43.75}"
            ]
          },
          "metadata": {},
          "execution_count": 4
        }
      ],
      "source": [
        "baseline[\"Cookies\"] = 5000\n",
        "baseline[\"Clicks\"]=baseline[\"Clicks\"]*(5000/40000)\n",
        "baseline[\"Enrollments\"]=baseline[\"Enrollments\"]*(5000/40000)\n",
        "baseline[\"Payments\"]=baseline[\"Payments\"]*(5000/40000)\n",
        "baseline"
      ]
    },
    {
      "cell_type": "markdown",
      "source": [
        "### 기본 데이터를 이용하여 평가 지표 계산"
      ],
      "metadata": {
        "id": "IS9dH06a4gek"
      }
    },
    {
      "cell_type": "code",
      "source": [
        "# 새로운 기능을 적용하기 전 평가 지표\n",
        "# Gross Conversion\n",
        "# Retention\n",
        "# Net Conversion\n",
        "\n",
        "baseline[\"GConversion\"] = baseline[\"Enrollments\"] / baseline[\"Clicks\"]\n",
        "baseline[\"Retention\"] = baseline[\"Payments\"] / baseline[\"Enrollments\"]\n",
        "baseline[\"NConversion\"] = baseline[\"Payments\"] / baseline[\"Clicks\"]\n",
        "\n",
        "baseline"
      ],
      "metadata": {
        "colab": {
          "base_uri": "https://localhost:8080/"
        },
        "id": "hbqZtoPo43rr",
        "outputId": "3ef357c4-48ba-41ad-ea0d-0a015a92082e"
      },
      "execution_count": 5,
      "outputs": [
        {
          "output_type": "execute_result",
          "data": {
            "text/plain": [
              "{'CTP': 0.08,\n",
              " 'Clicks': 400.0,\n",
              " 'Cookies': 5000,\n",
              " 'Enrollments': 82.5,\n",
              " 'GConversion': 0.20625,\n",
              " 'NConversion': 0.109375,\n",
              " 'Payments': 43.75,\n",
              " 'Retention': 0.5303030303030303}"
            ]
          },
          "metadata": {},
          "execution_count": 5
        }
      ]
    },
    {
      "cell_type": "markdown",
      "metadata": {
        "id": "vmUO8QwNqASI"
      },
      "source": [
        "### 지표 별 필요한 샘플 수 추산을 위해 필요한 데이터 준비\n",
        "\n",
        "- Probability : 해당 상황이 발생할 가능성\n",
        "- Numbers : 전체 표본 수\n",
        "- d_min : baseline"
      ]
    },
    {
      "cell_type": "code",
      "execution_count": 6,
      "metadata": {
        "id": "oIviUSCJp_U6"
      },
      "outputs": [],
      "source": [
        "GC={}\n",
        "GC[\"d\"]=0.01\n",
        "GC[\"p\"]=baseline[\"GConversion\"]\n",
        "GC[\"n\"]=baseline[\"Clicks\"]"
      ]
    },
    {
      "cell_type": "code",
      "execution_count": 7,
      "metadata": {
        "id": "wbcQeQhcrSYX"
      },
      "outputs": [],
      "source": [
        "R={}\n",
        "R[\"d\"]=0.01\n",
        "R[\"p\"]=baseline[\"Retention\"]\n",
        "R[\"n\"]=baseline[\"Enrollments\"]"
      ]
    },
    {
      "cell_type": "code",
      "execution_count": 8,
      "metadata": {
        "id": "Gku7IKeQrWUw"
      },
      "outputs": [],
      "source": [
        "NC={}\n",
        "NC[\"d\"]=0.0075\n",
        "NC[\"p\"]=baseline[\"NConversion\"]\n",
        "NC[\"n\"]=baseline[\"Clicks\"]"
      ]
    },
    {
      "cell_type": "markdown",
      "source": [
        "## 샘플 사이즈 계산 함수\n",
        "\n",
        "$$(Z{_1-_{α\\over 2}}*sd_1+Z_{1−β}*sd_2)^2 \\over d^2$$\n",
        "\n",
        "- 1종 오류 확률과 2종 오류 확률을 더한 뒤 detective value로 스케일링함"
      ],
      "metadata": {
        "id": "fmb28pNdToTV"
      }
    },
    {
      "cell_type": "code",
      "source": [
        "# Z-score 함수\n",
        "# 95% 신뢰 수준에 대한 Z-score를 반환할 수 있도록 할 예정\n",
        "\n",
        "def get_z_score(alpha):\n",
        "    return norm.ppf(alpha)\n",
        "\n",
        "# sd1 -> 2종 오류 : P(reject null | null true)에 대한 표준 편차\n",
        "# sd2 -> 1종 오류 : P(fail to reject | null false)에 대한 표준 편차\n",
        "\n",
        "def get_sds(p,d):\n",
        "    sd1=mt.sqrt(p*(1-p) + p*(1-p))\n",
        "    sd2=mt.sqrt(p*(1-p)+(p+d)*(1-(p+d)))\n",
        "    sds=[sd1,sd2]\n",
        "    return sds\n",
        "\n",
        "def get_sampSize(sds,alpha,beta,d):\n",
        "    n=pow((get_z_score(1-alpha/2)*sds[0]+get_z_score(1-beta)*sds[1]),2)/pow(d,2)\n",
        "    return n"
      ],
      "metadata": {
        "id": "z1yJPNN2Tt7S"
      },
      "execution_count": 9,
      "outputs": []
    },
    {
      "cell_type": "markdown",
      "source": [
        "## 샘플 사이즈 계산"
      ],
      "metadata": {
        "id": "3drIUidUWCCZ"
      }
    },
    {
      "cell_type": "markdown",
      "source": [
        "- Gross Conversion의 유의수준을 측정하기 위해서 25,835개의 Click 수(Cookies)가 필요함\n"
      ],
      "metadata": {
        "id": "0e66ARUTYX53"
      }
    },
    {
      "cell_type": "code",
      "source": [
        "GC[\"SampSize\"]=round(get_sampSize(get_sds(GC[\"p\"],GC[\"d\"]),0.05,0.2,GC[\"d\"]))\n",
        "GC[\"SampSize\"]"
      ],
      "metadata": {
        "colab": {
          "base_uri": "https://localhost:8080/"
        },
        "id": "6W4sWKxSWGR7",
        "outputId": "ee62bc22-d448-4626-ed6d-d98bf3ef8a08"
      },
      "execution_count": 10,
      "outputs": [
        {
          "output_type": "execute_result",
          "data": {
            "text/plain": [
              "25835"
            ]
          },
          "metadata": {},
          "execution_count": 10
        }
      ]
    },
    {
      "cell_type": "markdown",
      "source": [
        "- 현재 5,000 페이지 조회수(Cookies) 당 400개의 클릭이 발생하고 있음. 즉, 클릭 수 하나당 12.5개의 페이지 조회수가 필요함\n",
        "- 위와 같은 비율에서 25,835개의 Click 수를 얻기 위해서 25,835 * 12.5(5000/400)개의 페이지 조회수가 필요함\n",
        "- A/B 양 집단에 사용할 샘플이 필요하기 때문에 2를 곱함\n"
      ],
      "metadata": {
        "id": "YTzn94XqZIYu"
      }
    },
    {
      "cell_type": "code",
      "source": [
        "GC[\"SampSize\"]=round(GC[\"SampSize\"]*12.5*2)\n",
        "GC[\"SampSize\"]"
      ],
      "metadata": {
        "colab": {
          "base_uri": "https://localhost:8080/"
        },
        "id": "K70eikjOWJOp",
        "outputId": "22690541-4c19-47e7-dcd7-610859cc6271"
      },
      "execution_count": 11,
      "outputs": [
        {
          "output_type": "execute_result",
          "data": {
            "text/plain": [
              "645875"
            ]
          },
          "metadata": {},
          "execution_count": 11
        }
      ]
    },
    {
      "cell_type": "markdown",
      "source": [
        "- Retention의 유의수준을 측정하기 위해서 39,084명의 등록자가 필요함"
      ],
      "metadata": {
        "id": "kBKwVaWyaS6d"
      }
    },
    {
      "cell_type": "code",
      "source": [
        "R[\"SampSize\"]=round(get_sampSize(get_sds(R[\"p\"],R[\"d\"]),0.05,0.2,R[\"d\"]))\n",
        "R[\"SampSize\"]"
      ],
      "metadata": {
        "colab": {
          "base_uri": "https://localhost:8080/"
        },
        "id": "GXgiUBlzWKzS",
        "outputId": "fd976f4e-060e-4631-8093-8918e85ac3b3"
      },
      "execution_count": 12,
      "outputs": [
        {
          "output_type": "execute_result",
          "data": {
            "text/plain": [
              "39084"
            ]
          },
          "metadata": {},
          "execution_count": 12
        }
      ]
    },
    {
      "cell_type": "markdown",
      "source": [
        "- 39,087명의 등록자를 얻기 위해서는 한명 당 등록 페이지에 진입하기 위해 필요한 페이지 갯수가 필요함(12.5개)\n",
        "- 한 명을 등록하기 위해 필요한 클릭 수가 필요함(=Gross Conversion(0.20625))\n",
        "- A/B 양 집단에 사용할 샘플이 필요하기 때문에 2를 곱함"
      ],
      "metadata": {
        "id": "l5kdKPXOa1n3"
      }
    },
    {
      "cell_type": "code",
      "source": [
        "R[\"SampSize\"]=R[\"SampSize\"]/0.08/0.20625*2\n",
        "R[\"SampSize\"]"
      ],
      "metadata": {
        "colab": {
          "base_uri": "https://localhost:8080/"
        },
        "id": "1p9JShi4WMQw",
        "outputId": "b30e58fc-5547-4327-c2a3-6b320f95a8f1"
      },
      "execution_count": 13,
      "outputs": [
        {
          "output_type": "execute_result",
          "data": {
            "text/plain": [
              "4737454.545454546"
            ]
          },
          "metadata": {},
          "execution_count": 13
        }
      ]
    },
    {
      "cell_type": "markdown",
      "source": [
        "- Net Conversion을 측정하기 위해 27,427개의 클릭수가 필요함"
      ],
      "metadata": {
        "id": "2q8JEA7abbXG"
      }
    },
    {
      "cell_type": "code",
      "source": [
        "NC[\"SampSize\"]=round(get_sampSize(get_sds(NC[\"p\"],NC[\"d\"]),0.05,0.2,NC[\"d\"]))\n",
        "NC[\"SampSize\"]"
      ],
      "metadata": {
        "colab": {
          "base_uri": "https://localhost:8080/"
        },
        "id": "0pjT5wNXWObO",
        "outputId": "86382598-6131-4af7-d5f8-b898c3701d03"
      },
      "execution_count": 14,
      "outputs": [
        {
          "output_type": "execute_result",
          "data": {
            "text/plain": [
              "27427"
            ]
          },
          "metadata": {},
          "execution_count": 14
        }
      ]
    },
    {
      "cell_type": "markdown",
      "source": [
        "- 5,000 페이지 조회수(Cookies) 당 400개의 클릭이 발생하고 있음. 즉, 클릭 수 하나당 12.5개의 페이지 조회수가 필요함\n",
        "- 위와 같은 비율에서 25,835개의 Click 수를 얻기 위해서 27,427 * 12.5(5000/400)개의 페이지 조회수가 필요함\n",
        "- A/B 양 집단에 사용할 샘플이 필요하기 때문에 2를 곱함"
      ],
      "metadata": {
        "id": "SV9oTlEtbnSM"
      }
    },
    {
      "cell_type": "code",
      "source": [
        "NC[\"SampSize\"]=NC[\"SampSize\"]/0.08*2\n",
        "NC[\"SampSize\"]"
      ],
      "metadata": {
        "colab": {
          "base_uri": "https://localhost:8080/"
        },
        "id": "pORj6VCibn14",
        "outputId": "929513f7-795c-476a-99a6-c4cb1d25504b"
      },
      "execution_count": 15,
      "outputs": [
        {
          "output_type": "execute_result",
          "data": {
            "text/plain": [
              "685675.0"
            ]
          },
          "metadata": {},
          "execution_count": 15
        }
      ]
    },
    {
      "cell_type": "markdown",
      "source": [
        "## 샘플 사이즈 선택\n",
        "\n",
        "- 지표 당 필요한 샘플 사이즈(페이지 조회 수)\n",
        " - GC : 645,875\n",
        " - R : 4,737,454\n",
        " - NC : 685,675\n",
        "\n",
        "- 하루에 약 40,000 건의 페이지 조회가 발생하고 있음. 각 지표에 필요한 샘플 사이즈를 얻기 위해 필요한 데이터 수집 기간은 다음과 같음\n",
        " - GC : 17일(645875 / 40000)\n",
        " - R : 119일(4737454 / 40000)\n",
        " - NC : 18일(685675 / 40000)\n",
        "\n",
        "- 현실적으로 119일동안 A/B 테스트를 진행하기 어려움\n",
        "- NC의 샘플 사이즈를 선택하면 GC의 샘플 사이즈 수도 포괄할 수 있음(Retention에 대한 테스트는 진행할 수 없음)\n",
        "- **A/B 테스트를 위해 수집할 샘플의 사이즈는 685,675개로 선택**"
      ],
      "metadata": {
        "id": "noa50ozVb3vB"
      }
    },
    {
      "cell_type": "markdown",
      "source": [
        "## 수집한 데이터 분석"
      ],
      "metadata": {
        "id": "EKUp3Phoet_6"
      }
    },
    {
      "cell_type": "markdown",
      "source": [
        "### EDA"
      ],
      "metadata": {
        "id": "e-IZxXwIgRgA"
      }
    },
    {
      "cell_type": "code",
      "source": [
        "import seaborn as sns"
      ],
      "metadata": {
        "id": "uoOTs7P8GWzK"
      },
      "execution_count": 59,
      "outputs": []
    },
    {
      "cell_type": "code",
      "source": [
        "control = pd.read_csv(\"/content/drive/MyDrive/A-B-test_data/control_data.csv\")\n",
        "experiment = pd.read_csv(\"/content/drive/MyDrive/A-B-test_data/experiment_data.csv\")"
      ],
      "metadata": {
        "id": "l7xMIHKvfiEm"
      },
      "execution_count": 110,
      "outputs": []
    },
    {
      "cell_type": "code",
      "source": [
        "control.head()"
      ],
      "metadata": {
        "colab": {
          "base_uri": "https://localhost:8080/",
          "height": 206
        },
        "id": "ECGahL5QfskP",
        "outputId": "78b00cce-204f-494c-fac4-63d09258ebc2"
      },
      "execution_count": 111,
      "outputs": [
        {
          "output_type": "execute_result",
          "data": {
            "text/plain": [
              "          Date  Pageviews  Clicks  Enrollments  Payments\n",
              "0  Sat, Oct 11       7723     687        134.0      70.0\n",
              "1  Sun, Oct 12       9102     779        147.0      70.0\n",
              "2  Mon, Oct 13      10511     909        167.0      95.0\n",
              "3  Tue, Oct 14       9871     836        156.0     105.0\n",
              "4  Wed, Oct 15      10014     837        163.0      64.0"
            ],
            "text/html": [
              "\n",
              "  <div id=\"df-8cca3745-20e0-4da8-bf46-f8080199ee15\">\n",
              "    <div class=\"colab-df-container\">\n",
              "      <div>\n",
              "<style scoped>\n",
              "    .dataframe tbody tr th:only-of-type {\n",
              "        vertical-align: middle;\n",
              "    }\n",
              "\n",
              "    .dataframe tbody tr th {\n",
              "        vertical-align: top;\n",
              "    }\n",
              "\n",
              "    .dataframe thead th {\n",
              "        text-align: right;\n",
              "    }\n",
              "</style>\n",
              "<table border=\"1\" class=\"dataframe\">\n",
              "  <thead>\n",
              "    <tr style=\"text-align: right;\">\n",
              "      <th></th>\n",
              "      <th>Date</th>\n",
              "      <th>Pageviews</th>\n",
              "      <th>Clicks</th>\n",
              "      <th>Enrollments</th>\n",
              "      <th>Payments</th>\n",
              "    </tr>\n",
              "  </thead>\n",
              "  <tbody>\n",
              "    <tr>\n",
              "      <th>0</th>\n",
              "      <td>Sat, Oct 11</td>\n",
              "      <td>7723</td>\n",
              "      <td>687</td>\n",
              "      <td>134.0</td>\n",
              "      <td>70.0</td>\n",
              "    </tr>\n",
              "    <tr>\n",
              "      <th>1</th>\n",
              "      <td>Sun, Oct 12</td>\n",
              "      <td>9102</td>\n",
              "      <td>779</td>\n",
              "      <td>147.0</td>\n",
              "      <td>70.0</td>\n",
              "    </tr>\n",
              "    <tr>\n",
              "      <th>2</th>\n",
              "      <td>Mon, Oct 13</td>\n",
              "      <td>10511</td>\n",
              "      <td>909</td>\n",
              "      <td>167.0</td>\n",
              "      <td>95.0</td>\n",
              "    </tr>\n",
              "    <tr>\n",
              "      <th>3</th>\n",
              "      <td>Tue, Oct 14</td>\n",
              "      <td>9871</td>\n",
              "      <td>836</td>\n",
              "      <td>156.0</td>\n",
              "      <td>105.0</td>\n",
              "    </tr>\n",
              "    <tr>\n",
              "      <th>4</th>\n",
              "      <td>Wed, Oct 15</td>\n",
              "      <td>10014</td>\n",
              "      <td>837</td>\n",
              "      <td>163.0</td>\n",
              "      <td>64.0</td>\n",
              "    </tr>\n",
              "  </tbody>\n",
              "</table>\n",
              "</div>\n",
              "      <button class=\"colab-df-convert\" onclick=\"convertToInteractive('df-8cca3745-20e0-4da8-bf46-f8080199ee15')\"\n",
              "              title=\"Convert this dataframe to an interactive table.\"\n",
              "              style=\"display:none;\">\n",
              "        \n",
              "  <svg xmlns=\"http://www.w3.org/2000/svg\" height=\"24px\"viewBox=\"0 0 24 24\"\n",
              "       width=\"24px\">\n",
              "    <path d=\"M0 0h24v24H0V0z\" fill=\"none\"/>\n",
              "    <path d=\"M18.56 5.44l.94 2.06.94-2.06 2.06-.94-2.06-.94-.94-2.06-.94 2.06-2.06.94zm-11 1L8.5 8.5l.94-2.06 2.06-.94-2.06-.94L8.5 2.5l-.94 2.06-2.06.94zm10 10l.94 2.06.94-2.06 2.06-.94-2.06-.94-.94-2.06-.94 2.06-2.06.94z\"/><path d=\"M17.41 7.96l-1.37-1.37c-.4-.4-.92-.59-1.43-.59-.52 0-1.04.2-1.43.59L10.3 9.45l-7.72 7.72c-.78.78-.78 2.05 0 2.83L4 21.41c.39.39.9.59 1.41.59.51 0 1.02-.2 1.41-.59l7.78-7.78 2.81-2.81c.8-.78.8-2.07 0-2.86zM5.41 20L4 18.59l7.72-7.72 1.47 1.35L5.41 20z\"/>\n",
              "  </svg>\n",
              "      </button>\n",
              "      \n",
              "  <style>\n",
              "    .colab-df-container {\n",
              "      display:flex;\n",
              "      flex-wrap:wrap;\n",
              "      gap: 12px;\n",
              "    }\n",
              "\n",
              "    .colab-df-convert {\n",
              "      background-color: #E8F0FE;\n",
              "      border: none;\n",
              "      border-radius: 50%;\n",
              "      cursor: pointer;\n",
              "      display: none;\n",
              "      fill: #1967D2;\n",
              "      height: 32px;\n",
              "      padding: 0 0 0 0;\n",
              "      width: 32px;\n",
              "    }\n",
              "\n",
              "    .colab-df-convert:hover {\n",
              "      background-color: #E2EBFA;\n",
              "      box-shadow: 0px 1px 2px rgba(60, 64, 67, 0.3), 0px 1px 3px 1px rgba(60, 64, 67, 0.15);\n",
              "      fill: #174EA6;\n",
              "    }\n",
              "\n",
              "    [theme=dark] .colab-df-convert {\n",
              "      background-color: #3B4455;\n",
              "      fill: #D2E3FC;\n",
              "    }\n",
              "\n",
              "    [theme=dark] .colab-df-convert:hover {\n",
              "      background-color: #434B5C;\n",
              "      box-shadow: 0px 1px 3px 1px rgba(0, 0, 0, 0.15);\n",
              "      filter: drop-shadow(0px 1px 2px rgba(0, 0, 0, 0.3));\n",
              "      fill: #FFFFFF;\n",
              "    }\n",
              "  </style>\n",
              "\n",
              "      <script>\n",
              "        const buttonEl =\n",
              "          document.querySelector('#df-8cca3745-20e0-4da8-bf46-f8080199ee15 button.colab-df-convert');\n",
              "        buttonEl.style.display =\n",
              "          google.colab.kernel.accessAllowed ? 'block' : 'none';\n",
              "\n",
              "        async function convertToInteractive(key) {\n",
              "          const element = document.querySelector('#df-8cca3745-20e0-4da8-bf46-f8080199ee15');\n",
              "          const dataTable =\n",
              "            await google.colab.kernel.invokeFunction('convertToInteractive',\n",
              "                                                     [key], {});\n",
              "          if (!dataTable) return;\n",
              "\n",
              "          const docLinkHtml = 'Like what you see? Visit the ' +\n",
              "            '<a target=\"_blank\" href=https://colab.research.google.com/notebooks/data_table.ipynb>data table notebook</a>'\n",
              "            + ' to learn more about interactive tables.';\n",
              "          element.innerHTML = '';\n",
              "          dataTable['output_type'] = 'display_data';\n",
              "          await google.colab.output.renderOutput(dataTable, element);\n",
              "          const docLink = document.createElement('div');\n",
              "          docLink.innerHTML = docLinkHtml;\n",
              "          element.appendChild(docLink);\n",
              "        }\n",
              "      </script>\n",
              "    </div>\n",
              "  </div>\n",
              "  "
            ]
          },
          "metadata": {},
          "execution_count": 111
        }
      ]
    },
    {
      "cell_type": "markdown",
      "source": [
        "### 1) 데이터 분포 확인"
      ],
      "metadata": {
        "id": "4FN4g_9YPiLz"
      }
    },
    {
      "cell_type": "code",
      "source": [
        "def print_dist(group, feature):\n",
        "    ax = plt.subplots()\n",
        "    ax = sns.distplot(group[feature])\n",
        "    ax.set_title(f\"{feature} Histogram\")\n",
        "    ax.set_xlabel(feature)\n",
        "    ax.set_ylabel('Frequency')\n",
        "\n",
        "print_dist(control, 'Pageviews')"
      ],
      "metadata": {
        "colab": {
          "base_uri": "https://localhost:8080/",
          "height": 354
        },
        "id": "XRlOm7SNLNVy",
        "outputId": "2bf0fb47-848a-49d0-a977-b9ab0a1ebd3d"
      },
      "execution_count": 112,
      "outputs": [
        {
          "output_type": "stream",
          "name": "stderr",
          "text": [
            "/usr/local/lib/python3.7/dist-packages/seaborn/distributions.py:2619: FutureWarning: `distplot` is a deprecated function and will be removed in a future version. Please adapt your code to use either `displot` (a figure-level function with similar flexibility) or `histplot` (an axes-level function for histograms).\n",
            "  warnings.warn(msg, FutureWarning)\n"
          ]
        },
        {
          "output_type": "display_data",
          "data": {
            "text/plain": [
              "<Figure size 432x288 with 1 Axes>"
            ],
            "image/png": "[encoded data removed]"
          },
          "metadata": {
            "needs_background": "light"
          }
        }
      ]
    },
    {
      "cell_type": "code",
      "source": [
        "print_dist(experiment, 'Pageviews')"
      ],
      "metadata": {
        "colab": {
          "base_uri": "https://localhost:8080/",
          "height": 354
        },
        "id": "FUmqlh2oNFby",
        "outputId": "52781364-b65d-440e-c7b0-0b416f92c414"
      },
      "execution_count": 113,
      "outputs": [
        {
          "output_type": "stream",
          "name": "stderr",
          "text": [
            "/usr/local/lib/python3.7/dist-packages/seaborn/distributions.py:2619: FutureWarning: `distplot` is a deprecated function and will be removed in a future version. Please adapt your code to use either `displot` (a figure-level function with similar flexibility) or `histplot` (an axes-level function for histograms).\n",
            "  warnings.warn(msg, FutureWarning)\n"
          ]
        },
        {
          "output_type": "display_data",
          "data": {
            "text/plain": [
              "<Figure size 432x288 with 1 Axes>"
            ],
            "image/png": "[encoded data removed]"
          },
          "metadata": {
            "needs_background": "light"
          }
        }
      ]
    },
    {
      "cell_type": "code",
      "source": [
        "print_dist(control, 'Clicks')"
      ],
      "metadata": {
        "colab": {
          "base_uri": "https://localhost:8080/",
          "height": 354
        },
        "id": "q8QPUkLhNRt5",
        "outputId": "92b04df0-2060-4ed6-d230-44875f5b40a5"
      },
      "execution_count": 114,
      "outputs": [
        {
          "output_type": "stream",
          "name": "stderr",
          "text": [
            "/usr/local/lib/python3.7/dist-packages/seaborn/distributions.py:2619: FutureWarning: `distplot` is a deprecated function and will be removed in a future version. Please adapt your code to use either `displot` (a figure-level function with similar flexibility) or `histplot` (an axes-level function for histograms).\n",
            "  warnings.warn(msg, FutureWarning)\n"
          ]
        },
        {
          "output_type": "display_data",
          "data": {
            "text/plain": [
              "<Figure size 432x288 with 1 Axes>"
            ],
            "image/png": "[encoded data removed]"
          },
          "metadata": {
            "needs_background": "light"
          }
        }
      ]
    },
    {
      "cell_type": "code",
      "source": [
        "print_dist(experiment, 'Clicks')"
      ],
      "metadata": {
        "colab": {
          "base_uri": "https://localhost:8080/",
          "height": 354
        },
        "id": "yFLb1mZ-NcMw",
        "outputId": "dacaf237-416e-49c8-f485-58de485f1c6f"
      },
      "execution_count": 115,
      "outputs": [
        {
          "output_type": "stream",
          "name": "stderr",
          "text": [
            "/usr/local/lib/python3.7/dist-packages/seaborn/distributions.py:2619: FutureWarning: `distplot` is a deprecated function and will be removed in a future version. Please adapt your code to use either `displot` (a figure-level function with similar flexibility) or `histplot` (an axes-level function for histograms).\n",
            "  warnings.warn(msg, FutureWarning)\n"
          ]
        },
        {
          "output_type": "display_data",
          "data": {
            "text/plain": [
              "<Figure size 432x288 with 1 Axes>"
            ],
            "image/png": "[encoded data removed]"
          },
          "metadata": {
            "needs_background": "light"
          }
        }
      ]
    },
    {
      "cell_type": "code",
      "source": [
        "print_dist(control, 'Enrollments')"
      ],
      "metadata": {
        "colab": {
          "base_uri": "https://localhost:8080/",
          "height": 354
        },
        "id": "R15Plm_ONpbD",
        "outputId": "89312df1-35df-4574-b602-8a252320beed"
      },
      "execution_count": 116,
      "outputs": [
        {
          "output_type": "stream",
          "name": "stderr",
          "text": [
            "/usr/local/lib/python3.7/dist-packages/seaborn/distributions.py:2619: FutureWarning: `distplot` is a deprecated function and will be removed in a future version. Please adapt your code to use either `displot` (a figure-level function with similar flexibility) or `histplot` (an axes-level function for histograms).\n",
            "  warnings.warn(msg, FutureWarning)\n"
          ]
        },
        {
          "output_type": "display_data",
          "data": {
            "text/plain": [
              "<Figure size 432x288 with 1 Axes>"
            ],
            "image/png": "[encoded data removed]"
          },
          "metadata": {
            "needs_background": "light"
          }
        }
      ]
    },
    {
      "cell_type": "code",
      "source": [
        "print_dist(experiment, 'Enrollments')"
      ],
      "metadata": {
        "colab": {
          "base_uri": "https://localhost:8080/",
          "height": 354
        },
        "id": "PbfpGT5XPKoy",
        "outputId": "0ab2ff6f-564d-4c8c-ab8b-f33bd843ddc8"
      },
      "execution_count": 117,
      "outputs": [
        {
          "output_type": "stream",
          "name": "stderr",
          "text": [
            "/usr/local/lib/python3.7/dist-packages/seaborn/distributions.py:2619: FutureWarning: `distplot` is a deprecated function and will be removed in a future version. Please adapt your code to use either `displot` (a figure-level function with similar flexibility) or `histplot` (an axes-level function for histograms).\n",
            "  warnings.warn(msg, FutureWarning)\n"
          ]
        },
        {
          "output_type": "display_data",
          "data": {
            "text/plain": [
              "<Figure size 432x288 with 1 Axes>"
            ],
            "image/png": "[encoded data removed]"
          },
          "metadata": {
            "needs_background": "light"
          }
        }
      ]
    },
    {
      "cell_type": "code",
      "source": [
        "print_dist(control, 'Payments')"
      ],
      "metadata": {
        "colab": {
          "base_uri": "https://localhost:8080/",
          "height": 354
        },
        "id": "hgziNpRtPUO7",
        "outputId": "1845c9aa-dc74-4945-a928-8698c56440b5"
      },
      "execution_count": 118,
      "outputs": [
        {
          "output_type": "stream",
          "name": "stderr",
          "text": [
            "/usr/local/lib/python3.7/dist-packages/seaborn/distributions.py:2619: FutureWarning: `distplot` is a deprecated function and will be removed in a future version. Please adapt your code to use either `displot` (a figure-level function with similar flexibility) or `histplot` (an axes-level function for histograms).\n",
            "  warnings.warn(msg, FutureWarning)\n"
          ]
        },
        {
          "output_type": "display_data",
          "data": {
            "text/plain": [
              "<Figure size 432x288 with 1 Axes>"
            ],
            "image/png": "[encoded data removed]"
          },
          "metadata": {
            "needs_background": "light"
          }
        }
      ]
    },
    {
      "cell_type": "code",
      "source": [
        "print_dist(experiment, 'Payments')"
      ],
      "metadata": {
        "colab": {
          "base_uri": "https://localhost:8080/",
          "height": 354
        },
        "id": "4svEELFAPcTQ",
        "outputId": "40b7c333-db8f-4e88-868a-2a93fbad0209"
      },
      "execution_count": 119,
      "outputs": [
        {
          "output_type": "stream",
          "name": "stderr",
          "text": [
            "/usr/local/lib/python3.7/dist-packages/seaborn/distributions.py:2619: FutureWarning: `distplot` is a deprecated function and will be removed in a future version. Please adapt your code to use either `displot` (a figure-level function with similar flexibility) or `histplot` (an axes-level function for histograms).\n",
            "  warnings.warn(msg, FutureWarning)\n"
          ]
        },
        {
          "output_type": "display_data",
          "data": {
            "text/plain": [
              "<Figure size 432x288 with 1 Axes>"
            ],
            "image/png": "[encoded data removed]"
          },
          "metadata": {
            "needs_background": "light"
          }
        }
      ]
    },
    {
      "cell_type": "code",
      "source": [
        "# 통제집단 변수들 간의 상관 관계\n",
        "# 주요 지표인 Enrollments와 Payments와 유의미한 관계가 있는 변수 확인\n",
        "\n",
        "fig = sns.pairplot(control)"
      ],
      "metadata": {
        "colab": {
          "base_uri": "https://localhost:8080/",
          "height": 726
        },
        "id": "lrOMOmRAQ07o",
        "outputId": "de901fee-266c-4697-9610-e8dc4eb22a8e"
      },
      "execution_count": 120,
      "outputs": [
        {
          "output_type": "display_data",
          "data": {
            "text/plain": [
              "<Figure size 720x720 with 20 Axes>"
            ],
            "image/png": "[encoded data removed]"
          },
          "metadata": {
            "needs_background": "light"
          }
        }
      ]
    },
    {
      "cell_type": "code",
      "source": [
        "# 실험집단 변수들 간의 상관 관계\n",
        "# 주요 지표인 Enrollments와 Payments와 유의미한 관계가 있는 변수 확인\n",
        "\n",
        "\n",
        "fig = sns.pairplot(experiment)"
      ],
      "metadata": {
        "colab": {
          "base_uri": "https://localhost:8080/",
          "height": 726
        },
        "id": "hp_OMnWGRjWi",
        "outputId": "30a831d9-7b90-4085-d2e8-18f51c55064f"
      },
      "execution_count": 121,
      "outputs": [
        {
          "output_type": "display_data",
          "data": {
            "text/plain": [
              "<Figure size 720x720 with 20 Axes>"
            ],
            "image/png": "[encoded data removed]"
          },
          "metadata": {
            "needs_background": "light"
          }
        }
      ]
    },
    {
      "cell_type": "markdown",
      "source": [
        "### 시각화 결과 정리\n",
        "\n",
        "- 데이터에 이상치 없음 확인\n",
        "- 데이터가 정규분포의 형태를 띄고 있는 것 확인\n",
        "\n",
        "#### 1) Enrollments\n",
        "- 명확한 선형관계를 보이는 피쳐는 Payments\n",
        "- Click과 Pageview 특성과도 약한 선형 관계를 이루고 있는 것처럼 보임\n",
        "\n",
        "### 2) Payments\n",
        "- Enrollments 외에는 선형 관계를 이루고 있는 데이터가 없는 것으로 보임"
      ],
      "metadata": {
        "id": "0D5uxPXR6PBv"
      }
    },
    {
      "cell_type": "markdown",
      "source": [
        "## 수집한 데이터 간의 불변 지표 평가"
      ],
      "metadata": {
        "id": "FWNQtol6jjdJ"
      }
    },
    {
      "cell_type": "markdown",
      "source": [
        "### 1. 페이지 뷰 불변 지표 평가\n",
        "\n",
        "- A/B 두 집단의 샘플 사이즈에 유의미한 차이가 없다는 것을 확인해야 함\n",
        "\n",
        "1) pageview\n",
        "- control과 experiment의 페이지 뷰에 유의미한 차이가 있어선 안됨"
      ],
      "metadata": {
        "id": "XyTyVeP2jsIk"
      }
    },
    {
      "cell_type": "code",
      "source": [
        "# 통제 그룹의 Pageviews \n",
        "pageviews_cont = control['Pageviews'].sum()\n",
        "\n",
        "# 실험 그룹의 Pageviews\n",
        "pageviews_exp = experiment['Pageviews'].sum()\n",
        "\n",
        "# 샘플링된 전체 Pageviews\n",
        "pageviews_total = pageviews_cont+pageviews_exp\n",
        "\n",
        "print(\"control 그룹(통제군)의 페이지 조회 수 :\", pageviews_cont)\n",
        "print(\"experiment 그룹(실험군)의 페이지 조회 수 :\" ,pageviews_exp)\n",
        "print(\"두 샘플의 차이 :\", pageviews_cont - pageviews_exp)\n",
        "print(\"샘플링된 총 페이지 조회 수 :\", pageviews_total)"
      ],
      "metadata": {
        "colab": {
          "base_uri": "https://localhost:8080/"
        },
        "id": "i8CfdqhFji5Z",
        "outputId": "cde6c8b6-912b-46f6-ed73-90140acddbcd"
      },
      "execution_count": 131,
      "outputs": [
        {
          "output_type": "stream",
          "name": "stdout",
          "text": [
            "control 그룹(통제군)의 페이지 조회 수 : 345543\n",
            "experiment 그룹(실험군)의 페이지 조회 수 : 344660\n",
            "두 샘플의 차이 : 883\n",
            "샘플링된 총 페이지 조회 수 : 690203\n"
          ]
        }
      ]
    },
    {
      "cell_type": "markdown",
      "source": [
        "- 전체 데이터에 대해 control과 experiment 데이터의 비율은 0.5이여야 샘플 사이즈에 편향이 없다고 볼 수 있음\n",
        "- 0.5에 대한 허용 오차를 구하고, 전체 데이터에 대한 A/B 샘플 사이즈가 허용 오차 안에 위치하는 지 확인함"
      ],
      "metadata": {
        "id": "SgaNxt0zrCS5"
      }
    },
    {
      "cell_type": "code",
      "source": [
        "p_hat_cont = round(pageviews_cont/(pageviews_total),4)\n",
        "p_hat_exp = round(pageviews_exp/(pageviews_total),4)\n",
        "\n",
        "print(\"통제군의 데이터 비율 :\", p_hat_cont)\n",
        "print(\"실험군의 데이터 비율 :\", p_hat_exp)"
      ],
      "metadata": {
        "colab": {
          "base_uri": "https://localhost:8080/"
        },
        "id": "I-sEuviQjq6w",
        "outputId": "b1735517-999c-432b-8c42-cd73acbb1518"
      },
      "execution_count": 19,
      "outputs": [
        {
          "output_type": "stream",
          "name": "stdout",
          "text": [
            "통제군의 데이터 비율 : 0.5006\n",
            "실험군의 데이터 비율 : 0.4994\n"
          ]
        }
      ]
    },
    {
      "cell_type": "markdown",
      "source": [
        "- 가설 설정\n",
        " - 귀무가설 : 통제군(실험군)의 데이터 비율과 0.5는 통계적으로 유의미한 차이가 없다\n",
        " - 대립가설 : 통제군(실험군)의 데이터 비율과 0.5는 통계적으로 유의미한 차이가 있다.\n",
        "\n",
        "- Margin of error을 통한 신뢰수준 계산\n",
        " - 허용오차 z-score * se로 계산됨\n",
        " - z-score는 평균이 0이고 표준편차가 1인 정규분포 곡선에서 도출할 수 있음. 통상적으로 95% 신뢰구간을 설정하면, z-score는 +-1.96이 도출됨\n",
        " - 표준오차는 p값, 즉 성공가능성의 크기에 의해 좌우됨. 0.5보다 작아지거나 커지면 표본 오차가 작아지고, 신뢰구간이 좁아짐. 0.5일 때 불확실성이 가장 크다는 의미\n",
        " - 오차허용 범위는 정규분포상에서 설정한 신뢰구간 범위(+-1.96)를 SE로 scaling한 것이라고 이해할 수 있음.\n",
        " - 해당 오차허용 범위로 신뢰구간을 설정함"
      ],
      "metadata": {
        "id": "E6EgA9alsCut"
      }
    },
    {
      "cell_type": "code",
      "source": [
        "p = 0.5\n",
        "alpha = 0.05\n",
        "sd = mt.sqrt(p*(1-p)/(pageviews_total))\n",
        "ME = round(get_z_score(1-(alpha/2))*sd,4)\n",
        "\n",
        "print(f\"신뢰구간 : {p-ME}~{p+ME}\")\n",
        "print(f\"신뢰구간 안에 {p_hat_cont}과 {p_hat_exp}이 포함되어야 A/A 테스트 통과\")"
      ],
      "metadata": {
        "colab": {
          "base_uri": "https://localhost:8080/"
        },
        "id": "oChbD7bigPU_",
        "outputId": "dbaac2c0-c3be-4864-c24f-d131e6337265"
      },
      "execution_count": 20,
      "outputs": [
        {
          "output_type": "stream",
          "name": "stdout",
          "text": [
            "신뢰구간 : 0.4988~0.5012\n",
            "신뢰구간 안에 0.5006과 0.4994이 포함되어야 A/A 테스트 통과\n"
          ]
        }
      ]
    },
    {
      "cell_type": "markdown",
      "source": [
        "- 통제군과 실험군의 비율이 95% 신뢰도에서 0.5 +-0.012 구간 안에 위치하는 것을 확인 -> 귀무가설 채택"
      ],
      "metadata": {
        "id": "2LkEj50Sv5ck"
      }
    },
    {
      "cell_type": "markdown",
      "source": [
        "2) 'Start Free Trial' 버튼 클릭 수\n",
        "\n",
        "- 가설 설정\n",
        "\n",
        " - 귀무가설 : 통제군(실험군)의 데이터 비율과 0.5는 통계적으로 유의미한 차이가 없다\n",
        " - 대립가설 : 통제군(실험군)의 데이터 비율과 0.5는 통계적으로 유의미한 차이가 있다."
      ],
      "metadata": {
        "id": "4oxljpKnwgOd"
      }
    },
    {
      "cell_type": "code",
      "source": [
        "clicks_cont = control['Clicks'].sum()\n",
        "clicks_exp = experiment['Clicks'].sum()\n",
        "clicks_total = clicks_cont + clicks_exp\n",
        "\n",
        "print(\"두 샘플의 차이 :\", clicks_cont - clicks_exp)"
      ],
      "metadata": {
        "id": "JQWbYLllz43z",
        "colab": {
          "base_uri": "https://localhost:8080/"
        },
        "outputId": "d24722b4-3744-4fe1-926a-2bb07a422bb7"
      },
      "execution_count": 132,
      "outputs": [
        {
          "output_type": "stream",
          "name": "stdout",
          "text": [
            "두 샘플의 차이 : 53\n"
          ]
        }
      ]
    },
    {
      "cell_type": "code",
      "source": [
        "p_hat_cont = round(clicks_cont / clicks_total, 4)\n",
        "p_hat_exp = round(clicks_exp / clicks_total, 4)\n",
        "\n",
        "print(\"통제군의 데이터 비율 :\", p_hat_cont)\n",
        "print(\"실험군의 데이터 비율 :\", p_hat_exp)"
      ],
      "metadata": {
        "colab": {
          "base_uri": "https://localhost:8080/"
        },
        "id": "-kzbEM3l1ROc",
        "outputId": "e31efc56-aa16-4f24-b8b8-615063c42c1b"
      },
      "execution_count": 22,
      "outputs": [
        {
          "output_type": "stream",
          "name": "stdout",
          "text": [
            "통제군의 데이터 비율 : 0.5005\n",
            "실험군의 데이터 비율 : 0.4995\n"
          ]
        }
      ]
    },
    {
      "cell_type": "code",
      "source": [
        "p = 0.5\n",
        "alpha = 0.05\n",
        "sd = mt.sqrt(p*(1-p)/(clicks_total))\n",
        "ME = round(get_z_score(1-(alpha/2))*sd,4)\n",
        "\n",
        "print(f\"신뢰구간 : {p-ME}~{p+ME}\")\n",
        "print(f\"신뢰구간 안에 {p_hat_cont}과 {p_hat_exp}이 포함되어야 A/A 테스트 통과\")"
      ],
      "metadata": {
        "colab": {
          "base_uri": "https://localhost:8080/"
        },
        "id": "rAlQsDTI1RrD",
        "outputId": "ff6af6c2-d132-4715-ba8e-ee77680a6fba"
      },
      "execution_count": 23,
      "outputs": [
        {
          "output_type": "stream",
          "name": "stdout",
          "text": [
            "신뢰구간 : 0.4959~0.5041\n",
            "신뢰구간 안에 0.5005과 0.4995이 포함되어야 A/A 테스트 통과\n"
          ]
        }
      ]
    },
    {
      "cell_type": "markdown",
      "source": [
        "- 통제군과 실험군의 비율이 95% 신뢰도에서 0.5 +-0.041 구간 안에 위치하는 것을 확인 -> 귀무가설 채택"
      ],
      "metadata": {
        "id": "xF17FT1w2T4M"
      }
    },
    {
      "cell_type": "markdown",
      "source": [
        "## A/B 테스트 평가 지표 분석"
      ],
      "metadata": {
        "id": "sPzSX34YjBXW"
      }
    },
    {
      "cell_type": "markdown",
      "source": [
        "### 1. A/B test 평가 지표 확인(효과 크기)\n",
        "\n",
        "#### 목표 : A/B 집단의 평가 지표 간의 유의미한 변화가 있는 것을 확인해야 함\n",
        "\n",
        "#### 효과 크기(Effect size)\n",
        "- 두 변수 사이의 연관성 정도를 의미함\n",
        "- 효과 크기가 0이라는 것은 비교 집단들 사이의 차이(연관성)이 없다는 것을 의미함\n",
        "- 비교하려는 집단 사이의 차이가 클 수록 효과 크기가 커지게 됨"
      ],
      "metadata": {
        "id": "22u15lli23yx"
      }
    },
    {
      "cell_type": "markdown",
      "source": [
        "1) Gross Conversion"
      ],
      "metadata": {
        "id": "FrxSjKWiZ1pN"
      }
    },
    {
      "cell_type": "code",
      "source": [
        "# 결측치 제외\n",
        "\n",
        "clicks_cont=control[\"Clicks\"].loc[control[\"Enrollments\"].notnull()].sum()\n",
        "clicks_exp=experiment[\"Clicks\"].loc[experiment[\"Enrollments\"].notnull()].sum()"
      ],
      "metadata": {
        "id": "jN5GOsNCV8-2"
      },
      "execution_count": 24,
      "outputs": []
    },
    {
      "cell_type": "code",
      "source": [
        "# Gross Conversion = Enrollments / Clicks\n",
        "# 통제군&실험군 GC 계산\n",
        "\n",
        "enrollments_cont = control[\"Enrollments\"].sum()\n",
        "enrollments_exp = experiment[\"Enrollments\"].sum()\n",
        "\n",
        "GC_cont = enrollments_cont / clicks_cont\n",
        "GC_exp = enrollments_exp / clicks_exp\n",
        "\n",
        "# 합동 표준편차 계산 -> 합동 표준편차를 통해 신뢰구간 계산\n",
        "    # GC_pooled : 두 샘플의 총 Gross Conversion Probability\n",
        "    # GC_sd_pooled : 합동 표준편차\n",
        "    # GC_ME : Margin of Error\n",
        "\n",
        "GC_pooled = (enrollments_cont + enrollments_exp) / (clicks_cont + clicks_exp)\n",
        "GC_sd_pooled = mt.sqrt(GC_pooled*(1-GC_pooled) * (1/clicks_cont + 1/clicks_exp))\n",
        "GC_ME=round(get_z_score(1-alpha/2) * GC_sd_pooled, 4)\n",
        "\n",
        "GC_d_hat = round(GC_exp - GC_cont, 4)"
      ],
      "metadata": {
        "id": "2K8gXzy0SSjl"
      },
      "execution_count": 25,
      "outputs": []
    },
    {
      "cell_type": "code",
      "source": [
        "print(f\"- 통제군과 실험군의 차이 : {GC_d_hat}\")\n",
        "print(f\"- 두 집단의 차이는 95% 확률로 [{GC_d_hat - GC_ME} ~ {GC_d_hat + GC_ME}] 안에서 형성될 가능성이 높음\")\n",
        "print(\"- 신뢰 구간 안에 0이 포함되어 있지 않으므로 통게적으로 두 집단의 GC 차이는 통계적으로 유의미함\")\n",
        "print(\"- 또한, 신뢰 구간의 범위가 baseline인 -0.01보다 작으므로 실질적으로도 유의미한 차이라고 볼 수 있음\")"
      ],
      "metadata": {
        "colab": {
          "base_uri": "https://localhost:8080/"
        },
        "id": "qIpp9dBiUqmW",
        "outputId": "be18a450-162d-4e32-e4c0-3805ce85158d"
      },
      "execution_count": 26,
      "outputs": [
        {
          "output_type": "stream",
          "name": "stdout",
          "text": [
            "- 통제군과 실험군의 차이 : -0.0206\n",
            "- 두 집단의 차이는 95% 확률로 [-0.0292 ~ -0.012] 안에서 형성될 가능성이 높음\n",
            "- 신뢰 구간 안에 0이 포함되어 있지 않으므로 통게적으로 두 집단의 GC 차이는 통계적으로 유의미함\n",
            "- 또한, 신뢰 구간의 범위가 baseline인 -0.01보다 작으므로 실질적으로도 유의미한 차이라고 볼 수 있음\n"
          ]
        }
      ]
    },
    {
      "cell_type": "markdown",
      "source": [
        "2) Net Conversion"
      ],
      "metadata": {
        "id": "-o2lw-DfZ4vV"
      }
    },
    {
      "cell_type": "code",
      "source": [
        "# Gross Conversion = Enrollments / Clicks\n",
        "# 통제군&실험군 NC 계산\n",
        "\n",
        "payments_cont = control[\"Payments\"].sum()\n",
        "payments_exp = experiment[\"Payments\"].sum()\n",
        "\n",
        "NC_cont = payments_cont / clicks_cont\n",
        "NC_exp = payments_exp / clicks_exp\n",
        "\n",
        "# 합동 표준편차 계산 -> 합동 표준편차를 통해 신뢰구간 계산\n",
        "    # NC_pooled : 두 샘플의 총 Net Conversion Probability\n",
        "    # NC_sd_pooled : 합동 표준편차\n",
        "    # NC_ME : Margin of Error\n",
        "\n",
        "NC_pooled = (payments_cont+payments_exp) / (clicks_cont + clicks_exp)\n",
        "NC_sd_pooled = mt.sqrt(NC_pooled*(1-NC_pooled) * (1/clicks_cont + 1/clicks_exp))\n",
        "NC_ME = round(get_z_score(1-alpha/2) * NC_sd_pooled, 4)\n",
        "\n",
        "NC_d_hat = round(NC_exp - NC_cont, 4)"
      ],
      "metadata": {
        "id": "4LyKtnvvVdSi"
      },
      "execution_count": 27,
      "outputs": []
    },
    {
      "cell_type": "code",
      "source": [
        "print(f\"- 통제군과 실험군의 차이 : {NC_d_hat}\")\n",
        "print(f\"- 두 집단의 차이는 95% 확률로 [{NC_d_hat - NC_ME} ~ {NC_d_hat + NC_ME}] 안에서 형성될 가능성이 높음\")\n",
        "print(\"- 신뢰 구간 안에 0이 포함되어 있으므로 두 집단의 차이는 통계적으로 유의하지 않을 가능성이 있음\")\n",
        "print(\"- 또한, 신뢰 구간의 범위가 baseline인 0.075보다 작기 때문에 실질적으로도 유의미한 차이라고 볼 수 없음\")"
      ],
      "metadata": {
        "colab": {
          "base_uri": "https://localhost:8080/"
        },
        "id": "IMlbJ0FKdd4V",
        "outputId": "10e5068a-c1a4-4c84-8c9c-957cffa6b40f"
      },
      "execution_count": 28,
      "outputs": [
        {
          "output_type": "stream",
          "name": "stdout",
          "text": [
            "- 통제군과 실험군의 차이 : -0.0049\n",
            "- 두 집단의 차이는 95% 확률로 [-0.0116 ~ 0.0018000000000000004] 안에서 형성될 가능성이 높음\n",
            "- 신뢰 구간 안에 0이 포함되어 있으므로 두 집단의 차이는 통계적으로 유의하지 않을 가능성이 있음\n",
            "- 또한, 신뢰 구간의 범위가 baseline인 0.075보다 작기 때문에 실질적으로도 유의미한 차이라고 볼 수 없음\n"
          ]
        }
      ]
    },
    {
      "cell_type": "markdown",
      "source": [
        "### 2. A/B test 평가 지표 확인(부호 검정)\n",
        "\n",
        "#### 목표 : 효과 크기 방식의 A/B test 결과를 재검증함\n",
        "\n",
        "#### 부호검정(sign test)\n",
        "- 비교하려는 지표(변수) 간에 비교된 크기 외에 다른 정보는 모두 무시하는 검정 방법\n",
        "- 평균값을 기반으로 한 효과 크기 방식의 검정은 이상치에 취약하기 때문에 이상치의 영향을 덜 받는 sign test로 분석 결과를 cross check 함\n",
        "\n",
        "#### 진행 방법\n",
        "\n",
        "1) 통제군과 실험군의 크기를 daily 단위로 비교하여 이진 분류함(통제군이 크면 0, 실험군이 크면 1)\n",
        "\n",
        "2) 0과 1로 분류된 데이터를 집계함\n",
        "\n",
        "  - 귀무가설 : 통제군(실험군)의 비율이 0.5와 유의미한 차이가 없을 것이다.\n",
        "  - 대립가설 : 통제군(실험군)의 비율이 0.5와 유의미한 차이가 있을 것이다.\n",
        "\n",
        "3) 통제군(실험군)의 비율과 신뢰수준을 통해 p-value를 계산함\n"
      ],
      "metadata": {
        "id": "DvuzA0RwhUNI"
      }
    },
    {
      "cell_type": "code",
      "source": [
        "# 두 지표의 크기를 비교하기 위해 df 병합\n",
        "full = control.join(other=experiment, how=\"inner\", lsuffix=\"_cont\", rsuffix=\"_exp\")\n",
        "\n",
        "full.head()"
      ],
      "metadata": {
        "colab": {
          "base_uri": "https://localhost:8080/",
          "height": 206
        },
        "id": "xQnHtK4_jLcE",
        "outputId": "1bc26fac-f9c9-499c-eebe-3fc2646af8a5"
      },
      "execution_count": 29,
      "outputs": [
        {
          "output_type": "execute_result",
          "data": {
            "text/plain": [
              "     Date_cont  Pageviews_cont  Clicks_cont  Enrollments_cont  Payments_cont  \\\n",
              "0  Sat, Oct 11            7723          687             134.0           70.0   \n",
              "1  Sun, Oct 12            9102          779             147.0           70.0   \n",
              "2  Mon, Oct 13           10511          909             167.0           95.0   \n",
              "3  Tue, Oct 14            9871          836             156.0          105.0   \n",
              "4  Wed, Oct 15           10014          837             163.0           64.0   \n",
              "\n",
              "      Date_exp  Pageviews_exp  Clicks_exp  Enrollments_exp  Payments_exp  \n",
              "0  Sat, Oct 11           7716         686            105.0          34.0  \n",
              "1  Sun, Oct 12           9288         785            116.0          91.0  \n",
              "2  Mon, Oct 13          10480         884            145.0          79.0  \n",
              "3  Tue, Oct 14           9867         827            138.0          92.0  \n",
              "4  Wed, Oct 15           9793         832            140.0          94.0  "
            ],
            "text/html": [
              "\n",
              "  <div id=\"df-68615044-09ea-480c-b837-dc8568452443\">\n",
              "    <div class=\"colab-df-container\">\n",
              "      <div>\n",
              "<style scoped>\n",
              "    .dataframe tbody tr th:only-of-type {\n",
              "        vertical-align: middle;\n",
              "    }\n",
              "\n",
              "    .dataframe tbody tr th {\n",
              "        vertical-align: top;\n",
              "    }\n",
              "\n",
              "    .dataframe thead th {\n",
              "        text-align: right;\n",
              "    }\n",
              "</style>\n",
              "<table border=\"1\" class=\"dataframe\">\n",
              "  <thead>\n",
              "    <tr style=\"text-align: right;\">\n",
              "      <th></th>\n",
              "      <th>Date_cont</th>\n",
              "      <th>Pageviews_cont</th>\n",
              "      <th>Clicks_cont</th>\n",
              "      <th>Enrollments_cont</th>\n",
              "      <th>Payments_cont</th>\n",
              "      <th>Date_exp</th>\n",
              "      <th>Pageviews_exp</th>\n",
              "      <th>Clicks_exp</th>\n",
              "      <th>Enrollments_exp</th>\n",
              "      <th>Payments_exp</th>\n",
              "    </tr>\n",
              "  </thead>\n",
              "  <tbody>\n",
              "    <tr>\n",
              "      <th>0</th>\n",
              "      <td>Sat, Oct 11</td>\n",
              "      <td>7723</td>\n",
              "      <td>687</td>\n",
              "      <td>134.0</td>\n",
              "      <td>70.0</td>\n",
              "      <td>Sat, Oct 11</td>\n",
              "      <td>7716</td>\n",
              "      <td>686</td>\n",
              "      <td>105.0</td>\n",
              "      <td>34.0</td>\n",
              "    </tr>\n",
              "    <tr>\n",
              "      <th>1</th>\n",
              "      <td>Sun, Oct 12</td>\n",
              "      <td>9102</td>\n",
              "      <td>779</td>\n",
              "      <td>147.0</td>\n",
              "      <td>70.0</td>\n",
              "      <td>Sun, Oct 12</td>\n",
              "      <td>9288</td>\n",
              "      <td>785</td>\n",
              "      <td>116.0</td>\n",
              "      <td>91.0</td>\n",
              "    </tr>\n",
              "    <tr>\n",
              "      <th>2</th>\n",
              "      <td>Mon, Oct 13</td>\n",
              "      <td>10511</td>\n",
              "      <td>909</td>\n",
              "      <td>167.0</td>\n",
              "      <td>95.0</td>\n",
              "      <td>Mon, Oct 13</td>\n",
              "      <td>10480</td>\n",
              "      <td>884</td>\n",
              "      <td>145.0</td>\n",
              "      <td>79.0</td>\n",
              "    </tr>\n",
              "    <tr>\n",
              "      <th>3</th>\n",
              "      <td>Tue, Oct 14</td>\n",
              "      <td>9871</td>\n",
              "      <td>836</td>\n",
              "      <td>156.0</td>\n",
              "      <td>105.0</td>\n",
              "      <td>Tue, Oct 14</td>\n",
              "      <td>9867</td>\n",
              "      <td>827</td>\n",
              "      <td>138.0</td>\n",
              "      <td>92.0</td>\n",
              "    </tr>\n",
              "    <tr>\n",
              "      <th>4</th>\n",
              "      <td>Wed, Oct 15</td>\n",
              "      <td>10014</td>\n",
              "      <td>837</td>\n",
              "      <td>163.0</td>\n",
              "      <td>64.0</td>\n",
              "      <td>Wed, Oct 15</td>\n",
              "      <td>9793</td>\n",
              "      <td>832</td>\n",
              "      <td>140.0</td>\n",
              "      <td>94.0</td>\n",
              "    </tr>\n",
              "  </tbody>\n",
              "</table>\n",
              "</div>\n",
              "      <button class=\"colab-df-convert\" onclick=\"convertToInteractive('df-68615044-09ea-480c-b837-dc8568452443')\"\n",
              "              title=\"Convert this dataframe to an interactive table.\"\n",
              "              style=\"display:none;\">\n",
              "        \n",
              "  <svg xmlns=\"http://www.w3.org/2000/svg\" height=\"24px\"viewBox=\"0 0 24 24\"\n",
              "       width=\"24px\">\n",
              "    <path d=\"M0 0h24v24H0V0z\" fill=\"none\"/>\n",
              "    <path d=\"M18.56 5.44l.94 2.06.94-2.06 2.06-.94-2.06-.94-.94-2.06-.94 2.06-2.06.94zm-11 1L8.5 8.5l.94-2.06 2.06-.94-2.06-.94L8.5 2.5l-.94 2.06-2.06.94zm10 10l.94 2.06.94-2.06 2.06-.94-2.06-.94-.94-2.06-.94 2.06-2.06.94z\"/><path d=\"M17.41 7.96l-1.37-1.37c-.4-.4-.92-.59-1.43-.59-.52 0-1.04.2-1.43.59L10.3 9.45l-7.72 7.72c-.78.78-.78 2.05 0 2.83L4 21.41c.39.39.9.59 1.41.59.51 0 1.02-.2 1.41-.59l7.78-7.78 2.81-2.81c.8-.78.8-2.07 0-2.86zM5.41 20L4 18.59l7.72-7.72 1.47 1.35L5.41 20z\"/>\n",
              "  </svg>\n",
              "      </button>\n",
              "      \n",
              "  <style>\n",
              "    .colab-df-container {\n",
              "      display:flex;\n",
              "      flex-wrap:wrap;\n",
              "      gap: 12px;\n",
              "    }\n",
              "\n",
              "    .colab-df-convert {\n",
              "      background-color: #E8F0FE;\n",
              "      border: none;\n",
              "      border-radius: 50%;\n",
              "      cursor: pointer;\n",
              "      display: none;\n",
              "      fill: #1967D2;\n",
              "      height: 32px;\n",
              "      padding: 0 0 0 0;\n",
              "      width: 32px;\n",
              "    }\n",
              "\n",
              "    .colab-df-convert:hover {\n",
              "      background-color: #E2EBFA;\n",
              "      box-shadow: 0px 1px 2px rgba(60, 64, 67, 0.3), 0px 1px 3px 1px rgba(60, 64, 67, 0.15);\n",
              "      fill: #174EA6;\n",
              "    }\n",
              "\n",
              "    [theme=dark] .colab-df-convert {\n",
              "      background-color: #3B4455;\n",
              "      fill: #D2E3FC;\n",
              "    }\n",
              "\n",
              "    [theme=dark] .colab-df-convert:hover {\n",
              "      background-color: #434B5C;\n",
              "      box-shadow: 0px 1px 3px 1px rgba(0, 0, 0, 0.15);\n",
              "      filter: drop-shadow(0px 1px 2px rgba(0, 0, 0, 0.3));\n",
              "      fill: #FFFFFF;\n",
              "    }\n",
              "  </style>\n",
              "\n",
              "      <script>\n",
              "        const buttonEl =\n",
              "          document.querySelector('#df-68615044-09ea-480c-b837-dc8568452443 button.colab-df-convert');\n",
              "        buttonEl.style.display =\n",
              "          google.colab.kernel.accessAllowed ? 'block' : 'none';\n",
              "\n",
              "        async function convertToInteractive(key) {\n",
              "          const element = document.querySelector('#df-68615044-09ea-480c-b837-dc8568452443');\n",
              "          const dataTable =\n",
              "            await google.colab.kernel.invokeFunction('convertToInteractive',\n",
              "                                                     [key], {});\n",
              "          if (!dataTable) return;\n",
              "\n",
              "          const docLinkHtml = 'Like what you see? Visit the ' +\n",
              "            '<a target=\"_blank\" href=https://colab.research.google.com/notebooks/data_table.ipynb>data table notebook</a>'\n",
              "            + ' to learn more about interactive tables.';\n",
              "          element.innerHTML = '';\n",
              "          dataTable['output_type'] = 'display_data';\n",
              "          await google.colab.output.renderOutput(dataTable, element);\n",
              "          const docLink = document.createElement('div');\n",
              "          docLink.innerHTML = docLinkHtml;\n",
              "          element.appendChild(docLink);\n",
              "        }\n",
              "      </script>\n",
              "    </div>\n",
              "  </div>\n",
              "  "
            ]
          },
          "metadata": {},
          "execution_count": 29
        }
      ]
    },
    {
      "cell_type": "code",
      "source": [
        "#결측치 확인\n",
        "\n",
        "full.isnull().sum()"
      ],
      "metadata": {
        "colab": {
          "base_uri": "https://localhost:8080/"
        },
        "id": "scjMLke2lKeo",
        "outputId": "7a8608b6-7791-437a-ab2e-54e27d3807a1"
      },
      "execution_count": 30,
      "outputs": [
        {
          "output_type": "execute_result",
          "data": {
            "text/plain": [
              "Date_cont            0\n",
              "Pageviews_cont       0\n",
              "Clicks_cont          0\n",
              "Enrollments_cont    14\n",
              "Payments_cont       14\n",
              "Date_exp             0\n",
              "Pageviews_exp        0\n",
              "Clicks_exp           0\n",
              "Enrollments_exp     14\n",
              "Payments_exp        14\n",
              "dtype: int64"
            ]
          },
          "metadata": {},
          "execution_count": 30
        }
      ]
    },
    {
      "cell_type": "code",
      "source": [
        "# 결측치 제거\n",
        "\n",
        "full = full.loc[full[\"Enrollments_cont\"].notnull()]\n",
        "full.isnull().sum()"
      ],
      "metadata": {
        "colab": {
          "base_uri": "https://localhost:8080/"
        },
        "id": "Cvz115evjiEX",
        "outputId": "264f6cd0-cff0-49c6-ac79-2085de7ade7f"
      },
      "execution_count": 31,
      "outputs": [
        {
          "output_type": "execute_result",
          "data": {
            "text/plain": [
              "Date_cont           0\n",
              "Pageviews_cont      0\n",
              "Clicks_cont         0\n",
              "Enrollments_cont    0\n",
              "Payments_cont       0\n",
              "Date_exp            0\n",
              "Pageviews_exp       0\n",
              "Clicks_exp          0\n",
              "Enrollments_exp     0\n",
              "Payments_exp        0\n",
              "dtype: int64"
            ]
          },
          "metadata": {},
          "execution_count": 31
        }
      ]
    },
    {
      "cell_type": "code",
      "source": [
        "# 평가지표 비교 결과를 저장한 새로운 컬럼 생성\n",
        "\n",
        "x = full['Enrollments_cont'] / full['Clicks_cont']\n",
        "y = full['Enrollments_exp'] / full['Clicks_exp']\n",
        "\n",
        "#실험군이 더 크면 1, 그렇지 않으면 0\n",
        "full['GC'] = np.where(x<y, 1, 0)\n",
        "\n",
        "z = full['Payments_cont'] / full['Clicks_cont']\n",
        "w = full['Payments_exp'] / full['Clicks_exp']\n",
        "\n",
        "#실험군이 더 크면 1, 그렇지 않으면 0\n",
        "full['NC'] = np.where(z<w, 1, 0)\n",
        "full.head()"
      ],
      "metadata": {
        "colab": {
          "base_uri": "https://localhost:8080/",
          "height": 414
        },
        "id": "_NsOxO1hlDnM",
        "outputId": "9a199e1a-78a7-430b-f57c-2af07c9828a2"
      },
      "execution_count": 32,
      "outputs": [
        {
          "output_type": "stream",
          "name": "stderr",
          "text": [
            "/usr/local/lib/python3.7/dist-packages/ipykernel_launcher.py:7: SettingWithCopyWarning: \n",
            "A value is trying to be set on a copy of a slice from a DataFrame.\n",
            "Try using .loc[row_indexer,col_indexer] = value instead\n",
            "\n",
            "See the caveats in the documentation: https://pandas.pydata.org/pandas-docs/stable/user_guide/indexing.html#returning-a-view-versus-a-copy\n",
            "  import sys\n",
            "/usr/local/lib/python3.7/dist-packages/ipykernel_launcher.py:13: SettingWithCopyWarning: \n",
            "A value is trying to be set on a copy of a slice from a DataFrame.\n",
            "Try using .loc[row_indexer,col_indexer] = value instead\n",
            "\n",
            "See the caveats in the documentation: https://pandas.pydata.org/pandas-docs/stable/user_guide/indexing.html#returning-a-view-versus-a-copy\n",
            "  del sys.path[0]\n"
          ]
        },
        {
          "output_type": "execute_result",
          "data": {
            "text/plain": [
              "     Date_cont  Pageviews_cont  Clicks_cont  Enrollments_cont  Payments_cont  \\\n",
              "0  Sat, Oct 11            7723          687             134.0           70.0   \n",
              "1  Sun, Oct 12            9102          779             147.0           70.0   \n",
              "2  Mon, Oct 13           10511          909             167.0           95.0   \n",
              "3  Tue, Oct 14            9871          836             156.0          105.0   \n",
              "4  Wed, Oct 15           10014          837             163.0           64.0   \n",
              "\n",
              "      Date_exp  Pageviews_exp  Clicks_exp  Enrollments_exp  Payments_exp  GC  \\\n",
              "0  Sat, Oct 11           7716         686            105.0          34.0   0   \n",
              "1  Sun, Oct 12           9288         785            116.0          91.0   0   \n",
              "2  Mon, Oct 13          10480         884            145.0          79.0   0   \n",
              "3  Tue, Oct 14           9867         827            138.0          92.0   0   \n",
              "4  Wed, Oct 15           9793         832            140.0          94.0   0   \n",
              "\n",
              "   NC  \n",
              "0   0  \n",
              "1   1  \n",
              "2   0  \n",
              "3   0  \n",
              "4   1  "
            ],
            "text/html": [
              "\n",
              "  <div id=\"df-d0d6db7f-f376-4f9a-9f43-8a7720288c3f\">\n",
              "    <div class=\"colab-df-container\">\n",
              "      <div>\n",
              "<style scoped>\n",
              "    .dataframe tbody tr th:only-of-type {\n",
              "        vertical-align: middle;\n",
              "    }\n",
              "\n",
              "    .dataframe tbody tr th {\n",
              "        vertical-align: top;\n",
              "    }\n",
              "\n",
              "    .dataframe thead th {\n",
              "        text-align: right;\n",
              "    }\n",
              "</style>\n",
              "<table border=\"1\" class=\"dataframe\">\n",
              "  <thead>\n",
              "    <tr style=\"text-align: right;\">\n",
              "      <th></th>\n",
              "      <th>Date_cont</th>\n",
              "      <th>Pageviews_cont</th>\n",
              "      <th>Clicks_cont</th>\n",
              "      <th>Enrollments_cont</th>\n",
              "      <th>Payments_cont</th>\n",
              "      <th>Date_exp</th>\n",
              "      <th>Pageviews_exp</th>\n",
              "      <th>Clicks_exp</th>\n",
              "      <th>Enrollments_exp</th>\n",
              "      <th>Payments_exp</th>\n",
              "      <th>GC</th>\n",
              "      <th>NC</th>\n",
              "    </tr>\n",
              "  </thead>\n",
              "  <tbody>\n",
              "    <tr>\n",
              "      <th>0</th>\n",
              "      <td>Sat, Oct 11</td>\n",
              "      <td>7723</td>\n",
              "      <td>687</td>\n",
              "      <td>134.0</td>\n",
              "      <td>70.0</td>\n",
              "      <td>Sat, Oct 11</td>\n",
              "      <td>7716</td>\n",
              "      <td>686</td>\n",
              "      <td>105.0</td>\n",
              "      <td>34.0</td>\n",
              "      <td>0</td>\n",
              "      <td>0</td>\n",
              "    </tr>\n",
              "    <tr>\n",
              "      <th>1</th>\n",
              "      <td>Sun, Oct 12</td>\n",
              "      <td>9102</td>\n",
              "      <td>779</td>\n",
              "      <td>147.0</td>\n",
              "      <td>70.0</td>\n",
              "      <td>Sun, Oct 12</td>\n",
              "      <td>9288</td>\n",
              "      <td>785</td>\n",
              "      <td>116.0</td>\n",
              "      <td>91.0</td>\n",
              "      <td>0</td>\n",
              "      <td>1</td>\n",
              "    </tr>\n",
              "    <tr>\n",
              "      <th>2</th>\n",
              "      <td>Mon, Oct 13</td>\n",
              "      <td>10511</td>\n",
              "      <td>909</td>\n",
              "      <td>167.0</td>\n",
              "      <td>95.0</td>\n",
              "      <td>Mon, Oct 13</td>\n",
              "      <td>10480</td>\n",
              "      <td>884</td>\n",
              "      <td>145.0</td>\n",
              "      <td>79.0</td>\n",
              "      <td>0</td>\n",
              "      <td>0</td>\n",
              "    </tr>\n",
              "    <tr>\n",
              "      <th>3</th>\n",
              "      <td>Tue, Oct 14</td>\n",
              "      <td>9871</td>\n",
              "      <td>836</td>\n",
              "      <td>156.0</td>\n",
              "      <td>105.0</td>\n",
              "      <td>Tue, Oct 14</td>\n",
              "      <td>9867</td>\n",
              "      <td>827</td>\n",
              "      <td>138.0</td>\n",
              "      <td>92.0</td>\n",
              "      <td>0</td>\n",
              "      <td>0</td>\n",
              "    </tr>\n",
              "    <tr>\n",
              "      <th>4</th>\n",
              "      <td>Wed, Oct 15</td>\n",
              "      <td>10014</td>\n",
              "      <td>837</td>\n",
              "      <td>163.0</td>\n",
              "      <td>64.0</td>\n",
              "      <td>Wed, Oct 15</td>\n",
              "      <td>9793</td>\n",
              "      <td>832</td>\n",
              "      <td>140.0</td>\n",
              "      <td>94.0</td>\n",
              "      <td>0</td>\n",
              "      <td>1</td>\n",
              "    </tr>\n",
              "  </tbody>\n",
              "</table>\n",
              "</div>\n",
              "      <button class=\"colab-df-convert\" onclick=\"convertToInteractive('df-d0d6db7f-f376-4f9a-9f43-8a7720288c3f')\"\n",
              "              title=\"Convert this dataframe to an interactive table.\"\n",
              "              style=\"display:none;\">\n",
              "        \n",
              "  <svg xmlns=\"http://www.w3.org/2000/svg\" height=\"24px\"viewBox=\"0 0 24 24\"\n",
              "       width=\"24px\">\n",
              "    <path d=\"M0 0h24v24H0V0z\" fill=\"none\"/>\n",
              "    <path d=\"M18.56 5.44l.94 2.06.94-2.06 2.06-.94-2.06-.94-.94-2.06-.94 2.06-2.06.94zm-11 1L8.5 8.5l.94-2.06 2.06-.94-2.06-.94L8.5 2.5l-.94 2.06-2.06.94zm10 10l.94 2.06.94-2.06 2.06-.94-2.06-.94-.94-2.06-.94 2.06-2.06.94z\"/><path d=\"M17.41 7.96l-1.37-1.37c-.4-.4-.92-.59-1.43-.59-.52 0-1.04.2-1.43.59L10.3 9.45l-7.72 7.72c-.78.78-.78 2.05 0 2.83L4 21.41c.39.39.9.59 1.41.59.51 0 1.02-.2 1.41-.59l7.78-7.78 2.81-2.81c.8-.78.8-2.07 0-2.86zM5.41 20L4 18.59l7.72-7.72 1.47 1.35L5.41 20z\"/>\n",
              "  </svg>\n",
              "      </button>\n",
              "      \n",
              "  <style>\n",
              "    .colab-df-container {\n",
              "      display:flex;\n",
              "      flex-wrap:wrap;\n",
              "      gap: 12px;\n",
              "    }\n",
              "\n",
              "    .colab-df-convert {\n",
              "      background-color: #E8F0FE;\n",
              "      border: none;\n",
              "      border-radius: 50%;\n",
              "      cursor: pointer;\n",
              "      display: none;\n",
              "      fill: #1967D2;\n",
              "      height: 32px;\n",
              "      padding: 0 0 0 0;\n",
              "      width: 32px;\n",
              "    }\n",
              "\n",
              "    .colab-df-convert:hover {\n",
              "      background-color: #E2EBFA;\n",
              "      box-shadow: 0px 1px 2px rgba(60, 64, 67, 0.3), 0px 1px 3px 1px rgba(60, 64, 67, 0.15);\n",
              "      fill: #174EA6;\n",
              "    }\n",
              "\n",
              "    [theme=dark] .colab-df-convert {\n",
              "      background-color: #3B4455;\n",
              "      fill: #D2E3FC;\n",
              "    }\n",
              "\n",
              "    [theme=dark] .colab-df-convert:hover {\n",
              "      background-color: #434B5C;\n",
              "      box-shadow: 0px 1px 3px 1px rgba(0, 0, 0, 0.15);\n",
              "      filter: drop-shadow(0px 1px 2px rgba(0, 0, 0, 0.3));\n",
              "      fill: #FFFFFF;\n",
              "    }\n",
              "  </style>\n",
              "\n",
              "      <script>\n",
              "        const buttonEl =\n",
              "          document.querySelector('#df-d0d6db7f-f376-4f9a-9f43-8a7720288c3f button.colab-df-convert');\n",
              "        buttonEl.style.display =\n",
              "          google.colab.kernel.accessAllowed ? 'block' : 'none';\n",
              "\n",
              "        async function convertToInteractive(key) {\n",
              "          const element = document.querySelector('#df-d0d6db7f-f376-4f9a-9f43-8a7720288c3f');\n",
              "          const dataTable =\n",
              "            await google.colab.kernel.invokeFunction('convertToInteractive',\n",
              "                                                     [key], {});\n",
              "          if (!dataTable) return;\n",
              "\n",
              "          const docLinkHtml = 'Like what you see? Visit the ' +\n",
              "            '<a target=\"_blank\" href=https://colab.research.google.com/notebooks/data_table.ipynb>data table notebook</a>'\n",
              "            + ' to learn more about interactive tables.';\n",
              "          element.innerHTML = '';\n",
              "          dataTable['output_type'] = 'display_data';\n",
              "          await google.colab.output.renderOutput(dataTable, element);\n",
              "          const docLink = document.createElement('div');\n",
              "          docLink.innerHTML = docLinkHtml;\n",
              "          element.appendChild(docLink);\n",
              "        }\n",
              "      </script>\n",
              "    </div>\n",
              "  </div>\n",
              "  "
            ]
          },
          "metadata": {},
          "execution_count": 32
        }
      ]
    },
    {
      "cell_type": "code",
      "source": [
        "# 부호 집계\n",
        "\n",
        "GC_x = full.GC[full[\"GC\"]==1].count()\n",
        "NC_x = full.NC[full[\"NC\"]==1].count()\n",
        "n = full.Date_cont.count()\n",
        "\n",
        "print(f\"GC 지표에서 실험군이 더 큰 케이스 수 : {GC_x}\")\n",
        "print(f\"NC 지표에서 실험군이 더 큰 케이스 수 : {NC_x}\")\n",
        "print(f\"전체 케이스 수 : {n}\")"
      ],
      "metadata": {
        "colab": {
          "base_uri": "https://localhost:8080/"
        },
        "id": "FXsDWzkbu7aw",
        "outputId": "3a70dbb5-a401-4b40-9728-18a59a44433a"
      },
      "execution_count": 33,
      "outputs": [
        {
          "output_type": "stream",
          "name": "stdout",
          "text": [
            "GC 지표에서 실험군이 더 큰 케이스 수 : 4\n",
            "NC 지표에서 실험군이 더 큰 케이스 수 : 10\n",
            "전체 케이스 수 : 23\n"
          ]
        }
      ]
    },
    {
      "cell_type": "code",
      "source": [
        "# p-value 계산을 위한 함수\n",
        "# x : 실험군이 더 큰 케이스 수\n",
        "# n : 전체 케이스 수\n",
        "\n",
        "def get_prob(x,n):\n",
        "    p = round(mt.factorial(n)/(mt.factorial(x)*mt.factorial(n-x))*0.5**x*0.5**(n-x), 4)\n",
        "    return p\n",
        "\n",
        "def get_2side_pvalue(x,n):\n",
        "    p = 0\n",
        "    for i in range(0, x+1):\n",
        "        p = p + get_prob(i, n)\n",
        "    return round(2*p, 4)"
      ],
      "metadata": {
        "id": "0cpgqz6IwXL6"
      },
      "execution_count": 34,
      "outputs": []
    },
    {
      "cell_type": "code",
      "source": [
        "print(\"GC의 p-value가 0.05보다 작으면 유의미함 : \",get_2side_pvalue(GC_x,n))\n",
        "print(\"NC의 p-value가 0.05보다 작으면 유의미함 : \",get_2side_pvalue(NC_x,n))"
      ],
      "metadata": {
        "colab": {
          "base_uri": "https://localhost:8080/"
        },
        "id": "wmc8_Pbq3J5a",
        "outputId": "95852dc3-f1b6-40e0-aba0-6e5d3761312c"
      },
      "execution_count": 35,
      "outputs": [
        {
          "output_type": "stream",
          "name": "stdout",
          "text": [
            "GC의 p-value가 0.05보다 작으면 유의미함 :  0.0026\n",
            "NC의 p-value가 0.05보다 작으면 유의미함 :  0.6774\n"
          ]
        }
      ]
    },
    {
      "cell_type": "markdown",
      "source": [
        "## 머신러닝을 이용한 A/B 테스트"
      ],
      "metadata": {
        "id": "Y8bzFogEiHQV"
      }
    },
    {
      "cell_type": "markdown",
      "source": [
        "- 통계적 A/B 테스트를 진행하면 두 집단 간의 차이를 비교하여 새롭게 추가된 기능이 특정 집단에 어떤 영향을 주었는지 추정할 수 있음\n",
        "- 하지만, 두 집단에 차이를 일으킨 요인이 어떤 요인인지 추정만할 수 있을 뿐, 정확히 어떤 특성이 타겟 지표에 영향을 주었는지는 알 수 없음\n",
        "- 머신러닝은 어떤 특성이 타겟 지표에 영향을 주었는지 살펴볼 수 있다는 장점이 있음(설명력)\n",
        "- 머신러닝을 활용하여 어떤 특성이 타겟 지표에 영향을 주었으며, 특히나 영향력이 강한 특성이 무엇인지 살펴보도록 하겠음"
      ],
      "metadata": {
        "id": "fr6MDEYOkAjJ"
      }
    },
    {
      "cell_type": "code",
      "source": [
        "control = pd.read_csv(\"/content/drive/MyDrive/A-B-test_data/control_data.csv\")\n",
        "experiment = pd.read_csv(\"/content/drive/MyDrive/A-B-test_data/experiment_data.csv\")"
      ],
      "metadata": {
        "id": "CJ9tECcfiK1p"
      },
      "execution_count": 122,
      "outputs": []
    },
    {
      "cell_type": "code",
      "source": [
        "# 통제군, 실험군을 비교하기 위해 실험군 데이터에 1을 부여\n",
        "# 통제군, 실험군을 비교하기 위해 통제군 데이터에 1을 부여\n",
        "\n",
        "experiment['Experiment'] = 1\n",
        "control['Experiment'] = 0"
      ],
      "metadata": {
        "id": "YZUKec_wmsMp"
      },
      "execution_count": 123,
      "outputs": []
    },
    {
      "cell_type": "code",
      "source": [
        "# 타겟 데이터에 대한 피쳐의 영향력을 측정하기 위해 데이터를 merge함\n",
        "# 통제군, 실험군을 비교하기 위해 통제군 데이터에 1을 부여\n",
        "\n",
        "full = pd.concat([control, experiment])\n",
        "full['Experiment'] = full['Experiment'].fillna(0)\n",
        "full.head()"
      ],
      "metadata": {
        "colab": {
          "base_uri": "https://localhost:8080/",
          "height": 206
        },
        "id": "UiNfYqeCiQu9",
        "outputId": "a5af5f42-7e7d-4c7b-9405-a07e4345be58"
      },
      "execution_count": 124,
      "outputs": [
        {
          "output_type": "execute_result",
          "data": {
            "text/plain": [
              "          Date  Pageviews  Clicks  Enrollments  Payments  Experiment\n",
              "0  Sat, Oct 11       7723     687        134.0      70.0           0\n",
              "1  Sun, Oct 12       9102     779        147.0      70.0           0\n",
              "2  Mon, Oct 13      10511     909        167.0      95.0           0\n",
              "3  Tue, Oct 14       9871     836        156.0     105.0           0\n",
              "4  Wed, Oct 15      10014     837        163.0      64.0           0"
            ],
            "text/html": [
              "\n",
              "  <div id=\"df-e18bf020-d6c4-4b57-a9c6-a44408938139\">\n",
              "    <div class=\"colab-df-container\">\n",
              "      <div>\n",
              "<style scoped>\n",
              "    .dataframe tbody tr th:only-of-type {\n",
              "        vertical-align: middle;\n",
              "    }\n",
              "\n",
              "    .dataframe tbody tr th {\n",
              "        vertical-align: top;\n",
              "    }\n",
              "\n",
              "    .dataframe thead th {\n",
              "        text-align: right;\n",
              "    }\n",
              "</style>\n",
              "<table border=\"1\" class=\"dataframe\">\n",
              "  <thead>\n",
              "    <tr style=\"text-align: right;\">\n",
              "      <th></th>\n",
              "      <th>Date</th>\n",
              "      <th>Pageviews</th>\n",
              "      <th>Clicks</th>\n",
              "      <th>Enrollments</th>\n",
              "      <th>Payments</th>\n",
              "      <th>Experiment</th>\n",
              "    </tr>\n",
              "  </thead>\n",
              "  <tbody>\n",
              "    <tr>\n",
              "      <th>0</th>\n",
              "      <td>Sat, Oct 11</td>\n",
              "      <td>7723</td>\n",
              "      <td>687</td>\n",
              "      <td>134.0</td>\n",
              "      <td>70.0</td>\n",
              "      <td>0</td>\n",
              "    </tr>\n",
              "    <tr>\n",
              "      <th>1</th>\n",
              "      <td>Sun, Oct 12</td>\n",
              "      <td>9102</td>\n",
              "      <td>779</td>\n",
              "      <td>147.0</td>\n",
              "      <td>70.0</td>\n",
              "      <td>0</td>\n",
              "    </tr>\n",
              "    <tr>\n",
              "      <th>2</th>\n",
              "      <td>Mon, Oct 13</td>\n",
              "      <td>10511</td>\n",
              "      <td>909</td>\n",
              "      <td>167.0</td>\n",
              "      <td>95.0</td>\n",
              "      <td>0</td>\n",
              "    </tr>\n",
              "    <tr>\n",
              "      <th>3</th>\n",
              "      <td>Tue, Oct 14</td>\n",
              "      <td>9871</td>\n",
              "      <td>836</td>\n",
              "      <td>156.0</td>\n",
              "      <td>105.0</td>\n",
              "      <td>0</td>\n",
              "    </tr>\n",
              "    <tr>\n",
              "      <th>4</th>\n",
              "      <td>Wed, Oct 15</td>\n",
              "      <td>10014</td>\n",
              "      <td>837</td>\n",
              "      <td>163.0</td>\n",
              "      <td>64.0</td>\n",
              "      <td>0</td>\n",
              "    </tr>\n",
              "  </tbody>\n",
              "</table>\n",
              "</div>\n",
              "      <button class=\"colab-df-convert\" onclick=\"convertToInteractive('df-e18bf020-d6c4-4b57-a9c6-a44408938139')\"\n",
              "              title=\"Convert this dataframe to an interactive table.\"\n",
              "              style=\"display:none;\">\n",
              "        \n",
              "  <svg xmlns=\"http://www.w3.org/2000/svg\" height=\"24px\"viewBox=\"0 0 24 24\"\n",
              "       width=\"24px\">\n",
              "    <path d=\"M0 0h24v24H0V0z\" fill=\"none\"/>\n",
              "    <path d=\"M18.56 5.44l.94 2.06.94-2.06 2.06-.94-2.06-.94-.94-2.06-.94 2.06-2.06.94zm-11 1L8.5 8.5l.94-2.06 2.06-.94-2.06-.94L8.5 2.5l-.94 2.06-2.06.94zm10 10l.94 2.06.94-2.06 2.06-.94-2.06-.94-.94-2.06-.94 2.06-2.06.94z\"/><path d=\"M17.41 7.96l-1.37-1.37c-.4-.4-.92-.59-1.43-.59-.52 0-1.04.2-1.43.59L10.3 9.45l-7.72 7.72c-.78.78-.78 2.05 0 2.83L4 21.41c.39.39.9.59 1.41.59.51 0 1.02-.2 1.41-.59l7.78-7.78 2.81-2.81c.8-.78.8-2.07 0-2.86zM5.41 20L4 18.59l7.72-7.72 1.47 1.35L5.41 20z\"/>\n",
              "  </svg>\n",
              "      </button>\n",
              "      \n",
              "  <style>\n",
              "    .colab-df-container {\n",
              "      display:flex;\n",
              "      flex-wrap:wrap;\n",
              "      gap: 12px;\n",
              "    }\n",
              "\n",
              "    .colab-df-convert {\n",
              "      background-color: #E8F0FE;\n",
              "      border: none;\n",
              "      border-radius: 50%;\n",
              "      cursor: pointer;\n",
              "      display: none;\n",
              "      fill: #1967D2;\n",
              "      height: 32px;\n",
              "      padding: 0 0 0 0;\n",
              "      width: 32px;\n",
              "    }\n",
              "\n",
              "    .colab-df-convert:hover {\n",
              "      background-color: #E2EBFA;\n",
              "      box-shadow: 0px 1px 2px rgba(60, 64, 67, 0.3), 0px 1px 3px 1px rgba(60, 64, 67, 0.15);\n",
              "      fill: #174EA6;\n",
              "    }\n",
              "\n",
              "    [theme=dark] .colab-df-convert {\n",
              "      background-color: #3B4455;\n",
              "      fill: #D2E3FC;\n",
              "    }\n",
              "\n",
              "    [theme=dark] .colab-df-convert:hover {\n",
              "      background-color: #434B5C;\n",
              "      box-shadow: 0px 1px 3px 1px rgba(0, 0, 0, 0.15);\n",
              "      filter: drop-shadow(0px 1px 2px rgba(0, 0, 0, 0.3));\n",
              "      fill: #FFFFFF;\n",
              "    }\n",
              "  </style>\n",
              "\n",
              "      <script>\n",
              "        const buttonEl =\n",
              "          document.querySelector('#df-e18bf020-d6c4-4b57-a9c6-a44408938139 button.colab-df-convert');\n",
              "        buttonEl.style.display =\n",
              "          google.colab.kernel.accessAllowed ? 'block' : 'none';\n",
              "\n",
              "        async function convertToInteractive(key) {\n",
              "          const element = document.querySelector('#df-e18bf020-d6c4-4b57-a9c6-a44408938139');\n",
              "          const dataTable =\n",
              "            await google.colab.kernel.invokeFunction('convertToInteractive',\n",
              "                                                     [key], {});\n",
              "          if (!dataTable) return;\n",
              "\n",
              "          const docLinkHtml = 'Like what you see? Visit the ' +\n",
              "            '<a target=\"_blank\" href=https://colab.research.google.com/notebooks/data_table.ipynb>data table notebook</a>'\n",
              "            + ' to learn more about interactive tables.';\n",
              "          element.innerHTML = '';\n",
              "          dataTable['output_type'] = 'display_data';\n",
              "          await google.colab.output.renderOutput(dataTable, element);\n",
              "          const docLink = document.createElement('div');\n",
              "          docLink.innerHTML = docLinkHtml;\n",
              "          element.appendChild(docLink);\n",
              "        }\n",
              "      </script>\n",
              "    </div>\n",
              "  </div>\n",
              "  "
            ]
          },
          "metadata": {},
          "execution_count": 124
        }
      ]
    },
    {
      "cell_type": "markdown",
      "source": [
        "### 데이터 전처리"
      ],
      "metadata": {
        "id": "BCWCXttro4i9"
      }
    },
    {
      "cell_type": "code",
      "source": [
        "# 시드 고정\n",
        "np.random.seed(7)\n",
        "\n",
        "\n",
        "# 연속형 데이터가 아니므로 date에서 요일만 남김\n",
        "full['DOW'] = full['Date'].str.slice(start=0, stop=3)\n",
        "\n",
        "# 결측치 처리\n",
        "full.dropna(inplace=True)\n",
        "\n",
        "# feature 순서 정리 및 필요없는 컬럼 삭제\n",
        "full = full[['Experiment', 'Pageviews', 'Clicks', 'DOW', 'Enrollments']]\n",
        "\n",
        "# 편향을 방지하기 위해 데이터 셔플\n",
        "\n",
        "full = sklearn.utils.shuffle(full)"
      ],
      "metadata": {
        "id": "HWM95dELiY9O"
      },
      "execution_count": 39,
      "outputs": []
    },
    {
      "cell_type": "code",
      "source": [
        "full.head()"
      ],
      "metadata": {
        "colab": {
          "base_uri": "https://localhost:8080/",
          "height": 206
        },
        "id": "HGhDGpgeoUxt",
        "outputId": "cfa37616-bb87-4688-9377-0fda789b56c9"
      },
      "execution_count": 40,
      "outputs": [
        {
          "output_type": "execute_result",
          "data": {
            "text/plain": [
              "    Experiment  Pageviews  Clicks  DOW  Enrollments\n",
              "13           0       9434     673  Fri        220.0\n",
              "20           0       8890     706  Fri        174.0\n",
              "15           0       8896     708  Sun        161.0\n",
              "18           0       9327     739  Wed        196.0\n",
              "22           0       8836     693  Sun        206.0"
            ],
            "text/html": [
              "\n",
              "  <div id=\"df-b521f11e-aeec-4ba2-b2b4-7d337ca66e6a\">\n",
              "    <div class=\"colab-df-container\">\n",
              "      <div>\n",
              "<style scoped>\n",
              "    .dataframe tbody tr th:only-of-type {\n",
              "        vertical-align: middle;\n",
              "    }\n",
              "\n",
              "    .dataframe tbody tr th {\n",
              "        vertical-align: top;\n",
              "    }\n",
              "\n",
              "    .dataframe thead th {\n",
              "        text-align: right;\n",
              "    }\n",
              "</style>\n",
              "<table border=\"1\" class=\"dataframe\">\n",
              "  <thead>\n",
              "    <tr style=\"text-align: right;\">\n",
              "      <th></th>\n",
              "      <th>Experiment</th>\n",
              "      <th>Pageviews</th>\n",
              "      <th>Clicks</th>\n",
              "      <th>DOW</th>\n",
              "      <th>Enrollments</th>\n",
              "    </tr>\n",
              "  </thead>\n",
              "  <tbody>\n",
              "    <tr>\n",
              "      <th>13</th>\n",
              "      <td>0</td>\n",
              "      <td>9434</td>\n",
              "      <td>673</td>\n",
              "      <td>Fri</td>\n",
              "      <td>220.0</td>\n",
              "    </tr>\n",
              "    <tr>\n",
              "      <th>20</th>\n",
              "      <td>0</td>\n",
              "      <td>8890</td>\n",
              "      <td>706</td>\n",
              "      <td>Fri</td>\n",
              "      <td>174.0</td>\n",
              "    </tr>\n",
              "    <tr>\n",
              "      <th>15</th>\n",
              "      <td>0</td>\n",
              "      <td>8896</td>\n",
              "      <td>708</td>\n",
              "      <td>Sun</td>\n",
              "      <td>161.0</td>\n",
              "    </tr>\n",
              "    <tr>\n",
              "      <th>18</th>\n",
              "      <td>0</td>\n",
              "      <td>9327</td>\n",
              "      <td>739</td>\n",
              "      <td>Wed</td>\n",
              "      <td>196.0</td>\n",
              "    </tr>\n",
              "    <tr>\n",
              "      <th>22</th>\n",
              "      <td>0</td>\n",
              "      <td>8836</td>\n",
              "      <td>693</td>\n",
              "      <td>Sun</td>\n",
              "      <td>206.0</td>\n",
              "    </tr>\n",
              "  </tbody>\n",
              "</table>\n",
              "</div>\n",
              "      <button class=\"colab-df-convert\" onclick=\"convertToInteractive('df-b521f11e-aeec-4ba2-b2b4-7d337ca66e6a')\"\n",
              "              title=\"Convert this dataframe to an interactive table.\"\n",
              "              style=\"display:none;\">\n",
              "        \n",
              "  <svg xmlns=\"http://www.w3.org/2000/svg\" height=\"24px\"viewBox=\"0 0 24 24\"\n",
              "       width=\"24px\">\n",
              "    <path d=\"M0 0h24v24H0V0z\" fill=\"none\"/>\n",
              "    <path d=\"M18.56 5.44l.94 2.06.94-2.06 2.06-.94-2.06-.94-.94-2.06-.94 2.06-2.06.94zm-11 1L8.5 8.5l.94-2.06 2.06-.94-2.06-.94L8.5 2.5l-.94 2.06-2.06.94zm10 10l.94 2.06.94-2.06 2.06-.94-2.06-.94-.94-2.06-.94 2.06-2.06.94z\"/><path d=\"M17.41 7.96l-1.37-1.37c-.4-.4-.92-.59-1.43-.59-.52 0-1.04.2-1.43.59L10.3 9.45l-7.72 7.72c-.78.78-.78 2.05 0 2.83L4 21.41c.39.39.9.59 1.41.59.51 0 1.02-.2 1.41-.59l7.78-7.78 2.81-2.81c.8-.78.8-2.07 0-2.86zM5.41 20L4 18.59l7.72-7.72 1.47 1.35L5.41 20z\"/>\n",
              "  </svg>\n",
              "      </button>\n",
              "      \n",
              "  <style>\n",
              "    .colab-df-container {\n",
              "      display:flex;\n",
              "      flex-wrap:wrap;\n",
              "      gap: 12px;\n",
              "    }\n",
              "\n",
              "    .colab-df-convert {\n",
              "      background-color: #E8F0FE;\n",
              "      border: none;\n",
              "      border-radius: 50%;\n",
              "      cursor: pointer;\n",
              "      display: none;\n",
              "      fill: #1967D2;\n",
              "      height: 32px;\n",
              "      padding: 0 0 0 0;\n",
              "      width: 32px;\n",
              "    }\n",
              "\n",
              "    .colab-df-convert:hover {\n",
              "      background-color: #E2EBFA;\n",
              "      box-shadow: 0px 1px 2px rgba(60, 64, 67, 0.3), 0px 1px 3px 1px rgba(60, 64, 67, 0.15);\n",
              "      fill: #174EA6;\n",
              "    }\n",
              "\n",
              "    [theme=dark] .colab-df-convert {\n",
              "      background-color: #3B4455;\n",
              "      fill: #D2E3FC;\n",
              "    }\n",
              "\n",
              "    [theme=dark] .colab-df-convert:hover {\n",
              "      background-color: #434B5C;\n",
              "      box-shadow: 0px 1px 3px 1px rgba(0, 0, 0, 0.15);\n",
              "      filter: drop-shadow(0px 1px 2px rgba(0, 0, 0, 0.3));\n",
              "      fill: #FFFFFF;\n",
              "    }\n",
              "  </style>\n",
              "\n",
              "      <script>\n",
              "        const buttonEl =\n",
              "          document.querySelector('#df-b521f11e-aeec-4ba2-b2b4-7d337ca66e6a button.colab-df-convert');\n",
              "        buttonEl.style.display =\n",
              "          google.colab.kernel.accessAllowed ? 'block' : 'none';\n",
              "\n",
              "        async function convertToInteractive(key) {\n",
              "          const element = document.querySelector('#df-b521f11e-aeec-4ba2-b2b4-7d337ca66e6a');\n",
              "          const dataTable =\n",
              "            await google.colab.kernel.invokeFunction('convertToInteractive',\n",
              "                                                     [key], {});\n",
              "          if (!dataTable) return;\n",
              "\n",
              "          const docLinkHtml = 'Like what you see? Visit the ' +\n",
              "            '<a target=\"_blank\" href=https://colab.research.google.com/notebooks/data_table.ipynb>data table notebook</a>'\n",
              "            + ' to learn more about interactive tables.';\n",
              "          element.innerHTML = '';\n",
              "          dataTable['output_type'] = 'display_data';\n",
              "          await google.colab.output.renderOutput(dataTable, element);\n",
              "          const docLink = document.createElement('div');\n",
              "          docLink.innerHTML = docLinkHtml;\n",
              "          element.appendChild(docLink);\n",
              "        }\n",
              "      </script>\n",
              "    </div>\n",
              "  </div>\n",
              "  "
            ]
          },
          "metadata": {},
          "execution_count": 40
        }
      ]
    },
    {
      "cell_type": "code",
      "source": [
        "# 타겟 및 훈련 피쳐 설정\n",
        "\n",
        "target = \"Enrollments\"\n",
        "full_train = full.drop(columns = target)"
      ],
      "metadata": {
        "id": "unN4umZYzkyn"
      },
      "execution_count": 41,
      "outputs": []
    },
    {
      "cell_type": "code",
      "source": [
        "# 범주형 데이터 인코딩\n",
        "\n",
        "from sklearn.preprocessing import LabelEncoder\n",
        "\n",
        "encoder = LabelEncoder()\n",
        "full_train['DOW'] = encoder.fit_transform(full_train['DOW'])"
      ],
      "metadata": {
        "id": "syzYeviW1dLU"
      },
      "execution_count": 42,
      "outputs": []
    },
    {
      "cell_type": "code",
      "source": [
        "# 학습 - 검증 데이터 분리\n",
        "\n",
        "from sklearn.model_selection import train_test_split\n",
        "\n",
        "X_train, X_test, y_train, y_test = train_test_split(full_train, full[target], test_size = 0.2, random_state=2)"
      ],
      "metadata": {
        "id": "u39pogPdoedz"
      },
      "execution_count": 43,
      "outputs": []
    },
    {
      "cell_type": "code",
      "source": [
        "X_train.shape[0] + X_test.shape[0] == full.shape[0]"
      ],
      "metadata": {
        "colab": {
          "base_uri": "https://localhost:8080/"
        },
        "id": "0aEGcLhT0QxF",
        "outputId": "c6412076-ba05-4183-cea7-0fd33a0df9e1"
      },
      "execution_count": 44,
      "outputs": [
        {
          "output_type": "execute_result",
          "data": {
            "text/plain": [
              "True"
            ]
          },
          "metadata": {},
          "execution_count": 44
        }
      ]
    },
    {
      "cell_type": "code",
      "source": [
        "X_train.head()"
      ],
      "metadata": {
        "colab": {
          "base_uri": "https://localhost:8080/",
          "height": 206
        },
        "id": "E3zHX-oN0SC3",
        "outputId": "7acff798-2a36-4c3c-e142-29e2da146ed0"
      },
      "execution_count": 45,
      "outputs": [
        {
          "output_type": "execute_result",
          "data": {
            "text/plain": [
              "    Experiment  Pageviews  Clicks  DOW\n",
              "15           0       8896     708    3\n",
              "10           1      10551     864    5\n",
              "9            0      10667     861    1\n",
              "7            0       7434     632    2\n",
              "6            0       9008     748    0"
            ],
            "text/html": [
              "\n",
              "  <div id=\"df-5c9e3211-7aef-407d-a798-69acf22df697\">\n",
              "    <div class=\"colab-df-container\">\n",
              "      <div>\n",
              "<style scoped>\n",
              "    .dataframe tbody tr th:only-of-type {\n",
              "        vertical-align: middle;\n",
              "    }\n",
              "\n",
              "    .dataframe tbody tr th {\n",
              "        vertical-align: top;\n",
              "    }\n",
              "\n",
              "    .dataframe thead th {\n",
              "        text-align: right;\n",
              "    }\n",
              "</style>\n",
              "<table border=\"1\" class=\"dataframe\">\n",
              "  <thead>\n",
              "    <tr style=\"text-align: right;\">\n",
              "      <th></th>\n",
              "      <th>Experiment</th>\n",
              "      <th>Pageviews</th>\n",
              "      <th>Clicks</th>\n",
              "      <th>DOW</th>\n",
              "    </tr>\n",
              "  </thead>\n",
              "  <tbody>\n",
              "    <tr>\n",
              "      <th>15</th>\n",
              "      <td>0</td>\n",
              "      <td>8896</td>\n",
              "      <td>708</td>\n",
              "      <td>3</td>\n",
              "    </tr>\n",
              "    <tr>\n",
              "      <th>10</th>\n",
              "      <td>1</td>\n",
              "      <td>10551</td>\n",
              "      <td>864</td>\n",
              "      <td>5</td>\n",
              "    </tr>\n",
              "    <tr>\n",
              "      <th>9</th>\n",
              "      <td>0</td>\n",
              "      <td>10667</td>\n",
              "      <td>861</td>\n",
              "      <td>1</td>\n",
              "    </tr>\n",
              "    <tr>\n",
              "      <th>7</th>\n",
              "      <td>0</td>\n",
              "      <td>7434</td>\n",
              "      <td>632</td>\n",
              "      <td>2</td>\n",
              "    </tr>\n",
              "    <tr>\n",
              "      <th>6</th>\n",
              "      <td>0</td>\n",
              "      <td>9008</td>\n",
              "      <td>748</td>\n",
              "      <td>0</td>\n",
              "    </tr>\n",
              "  </tbody>\n",
              "</table>\n",
              "</div>\n",
              "      <button class=\"colab-df-convert\" onclick=\"convertToInteractive('df-5c9e3211-7aef-407d-a798-69acf22df697')\"\n",
              "              title=\"Convert this dataframe to an interactive table.\"\n",
              "              style=\"display:none;\">\n",
              "        \n",
              "  <svg xmlns=\"http://www.w3.org/2000/svg\" height=\"24px\"viewBox=\"0 0 24 24\"\n",
              "       width=\"24px\">\n",
              "    <path d=\"M0 0h24v24H0V0z\" fill=\"none\"/>\n",
              "    <path d=\"M18.56 5.44l.94 2.06.94-2.06 2.06-.94-2.06-.94-.94-2.06-.94 2.06-2.06.94zm-11 1L8.5 8.5l.94-2.06 2.06-.94-2.06-.94L8.5 2.5l-.94 2.06-2.06.94zm10 10l.94 2.06.94-2.06 2.06-.94-2.06-.94-.94-2.06-.94 2.06-2.06.94z\"/><path d=\"M17.41 7.96l-1.37-1.37c-.4-.4-.92-.59-1.43-.59-.52 0-1.04.2-1.43.59L10.3 9.45l-7.72 7.72c-.78.78-.78 2.05 0 2.83L4 21.41c.39.39.9.59 1.41.59.51 0 1.02-.2 1.41-.59l7.78-7.78 2.81-2.81c.8-.78.8-2.07 0-2.86zM5.41 20L4 18.59l7.72-7.72 1.47 1.35L5.41 20z\"/>\n",
              "  </svg>\n",
              "      </button>\n",
              "      \n",
              "  <style>\n",
              "    .colab-df-container {\n",
              "      display:flex;\n",
              "      flex-wrap:wrap;\n",
              "      gap: 12px;\n",
              "    }\n",
              "\n",
              "    .colab-df-convert {\n",
              "      background-color: #E8F0FE;\n",
              "      border: none;\n",
              "      border-radius: 50%;\n",
              "      cursor: pointer;\n",
              "      display: none;\n",
              "      fill: #1967D2;\n",
              "      height: 32px;\n",
              "      padding: 0 0 0 0;\n",
              "      width: 32px;\n",
              "    }\n",
              "\n",
              "    .colab-df-convert:hover {\n",
              "      background-color: #E2EBFA;\n",
              "      box-shadow: 0px 1px 2px rgba(60, 64, 67, 0.3), 0px 1px 3px 1px rgba(60, 64, 67, 0.15);\n",
              "      fill: #174EA6;\n",
              "    }\n",
              "\n",
              "    [theme=dark] .colab-df-convert {\n",
              "      background-color: #3B4455;\n",
              "      fill: #D2E3FC;\n",
              "    }\n",
              "\n",
              "    [theme=dark] .colab-df-convert:hover {\n",
              "      background-color: #434B5C;\n",
              "      box-shadow: 0px 1px 3px 1px rgba(0, 0, 0, 0.15);\n",
              "      filter: drop-shadow(0px 1px 2px rgba(0, 0, 0, 0.3));\n",
              "      fill: #FFFFFF;\n",
              "    }\n",
              "  </style>\n",
              "\n",
              "      <script>\n",
              "        const buttonEl =\n",
              "          document.querySelector('#df-5c9e3211-7aef-407d-a798-69acf22df697 button.colab-df-convert');\n",
              "        buttonEl.style.display =\n",
              "          google.colab.kernel.accessAllowed ? 'block' : 'none';\n",
              "\n",
              "        async function convertToInteractive(key) {\n",
              "          const element = document.querySelector('#df-5c9e3211-7aef-407d-a798-69acf22df697');\n",
              "          const dataTable =\n",
              "            await google.colab.kernel.invokeFunction('convertToInteractive',\n",
              "                                                     [key], {});\n",
              "          if (!dataTable) return;\n",
              "\n",
              "          const docLinkHtml = 'Like what you see? Visit the ' +\n",
              "            '<a target=\"_blank\" href=https://colab.research.google.com/notebooks/data_table.ipynb>data table notebook</a>'\n",
              "            + ' to learn more about interactive tables.';\n",
              "          element.innerHTML = '';\n",
              "          dataTable['output_type'] = 'display_data';\n",
              "          await google.colab.output.renderOutput(dataTable, element);\n",
              "          const docLink = document.createElement('div');\n",
              "          docLink.innerHTML = docLinkHtml;\n",
              "          element.appendChild(docLink);\n",
              "        }\n",
              "      </script>\n",
              "    </div>\n",
              "  </div>\n",
              "  "
            ]
          },
          "metadata": {},
          "execution_count": 45
        }
      ]
    },
    {
      "cell_type": "code",
      "source": [
        "from sklearn.metrics import mean_squared_error, r2_score, mean_absolute_error\n",
        "\n",
        "# 평가 지표 함수\n",
        "\n",
        "def print_metrics(y_test, y_pred):\n",
        "    rmse = np.sqrt(mean_squared_error(y_test, y_pred))\n",
        "    r_score = r2_score(y_test, y_pred)\n",
        "    mae = mean_absolute_error(y_test, y_pred)\n",
        "\n",
        "    print(\"RMSE_score :\", rmse)\n",
        "    print(\"R2_socre :\", r_score)\n",
        "    print(\"MAE_score :\", mae)\n",
        "\n",
        "\n",
        "# 시각화 함수\n",
        "\n",
        "import matplotlib.pyplot as plt\n",
        "plt.style.use('ggplot')\n",
        "%matplotlib inline\n",
        "\n",
        "def plot_pred(y_test, y_pred, model_name):\n",
        "    N = len(y_test)\n",
        "    plt.figure(figsize=(10,5)) # 그래프 사이즈\n",
        "    original = plt.scatter(np.arange(1, N+1), y_test, c='blue') # train 데이터의 위치 표시\n",
        "    prediction = plt.scatter(np.arange(1, N+1), y_pred, c='red')\n",
        "    plt.xticks(np.arange(1, N+1)) # X축 길이\n",
        "    plt.xlabel('Observation')\n",
        "    plt.ylabel('Enrollments(Label)')\n",
        "    title = f\"True Labels vs. Predicted Labels ({model_name})\"\n",
        "    plt.title(title)\n",
        "    plt.legend((original, prediction), ('Original', 'Prediction'))\n",
        "    plt.show()\n"
      ],
      "metadata": {
        "id": "C-2ThTNF2xok"
      },
      "execution_count": 46,
      "outputs": []
    },
    {
      "cell_type": "markdown",
      "source": [
        "## Model 1. Linear Regression"
      ],
      "metadata": {
        "id": "QnOfzwcfROhh"
      }
    },
    {
      "cell_type": "code",
      "source": [
        "import statsmodels.api as sm\n",
        "\n",
        "linear_regression = sm.OLS(y_train, X_train)\n",
        "linear_regression = linear_regression.fit()"
      ],
      "metadata": {
        "colab": {
          "base_uri": "https://localhost:8080/"
        },
        "id": "IKTygSl15Sou",
        "outputId": "6f97503f-3757-4625-97d4-b9c522ecbdbe"
      },
      "execution_count": 47,
      "outputs": [
        {
          "output_type": "stream",
          "name": "stderr",
          "text": [
            "/usr/local/lib/python3.7/dist-packages/statsmodels/tools/_testing.py:19: FutureWarning: pandas.util.testing is deprecated. Use the functions in the public API at pandas.testing instead.\n",
            "  import pandas.util.testing as tm\n"
          ]
        }
      ]
    },
    {
      "cell_type": "code",
      "source": [
        "y_pred = linear_regression.predict(X_test)\n",
        "\n",
        "print_metrics(y_test, y_pred)"
      ],
      "metadata": {
        "colab": {
          "base_uri": "https://localhost:8080/"
        },
        "id": "JsJQFDAm_w-q",
        "outputId": "f49533bf-3763-4113-dc86-e294ceb7cd13"
      },
      "execution_count": 48,
      "outputs": [
        {
          "output_type": "stream",
          "name": "stdout",
          "text": [
            "RMSE_score : 17.571352483434456\n",
            "R2_socre : 0.715225578217028\n",
            "MAE_score : 16.18243561085952\n"
          ]
        }
      ]
    },
    {
      "cell_type": "code",
      "source": [
        "plot_pred(y_test, y_pred, 'Linear Regression')"
      ],
      "metadata": {
        "colab": {
          "base_uri": "https://localhost:8080/",
          "height": 354
        },
        "id": "lRTPfwaEKGLt",
        "outputId": "1a83eff1-caad-479f-8f97-2a81e35f848f"
      },
      "execution_count": 49,
      "outputs": [
        {
          "output_type": "display_data",
          "data": {
            "text/plain": [
              "<Figure size 720x360 with 1 Axes>"
            ],
            "image/png": "[encoded data removed]"
          },
          "metadata": {
            "needs_background": "light"
          }
        }
      ]
    },
    {
      "cell_type": "code",
      "source": [
        "print(linear_regression.summary())"
      ],
      "metadata": {
        "colab": {
          "base_uri": "https://localhost:8080/"
        },
        "id": "eQfM085VKPAX",
        "outputId": "96a32e2d-76bc-4b9d-9e19-cada75d40ad4"
      },
      "execution_count": 50,
      "outputs": [
        {
          "output_type": "stream",
          "name": "stdout",
          "text": [
            "                                 OLS Regression Results                                \n",
            "=======================================================================================\n",
            "Dep. Variable:            Enrollments   R-squared (uncentered):                   0.980\n",
            "Model:                            OLS   Adj. R-squared (uncentered):              0.977\n",
            "Method:                 Least Squares   F-statistic:                              382.9\n",
            "Date:                Fri, 29 Apr 2022   Prob (F-statistic):                    1.58e-26\n",
            "Time:                        11:31:49   Log-Likelihood:                         -164.38\n",
            "No. Observations:                  36   AIC:                                      336.8\n",
            "Df Residuals:                      32   BIC:                                      343.1\n",
            "Df Model:                           4                                                  \n",
            "Covariance Type:            nonrobust                                                  \n",
            "==============================================================================\n",
            "                 coef    std err          t      P>|t|      [0.025      0.975]\n",
            "------------------------------------------------------------------------------\n",
            "Experiment   -13.9468      8.738     -1.596      0.120     -31.746       3.852\n",
            "Pageviews      0.0692      0.013      5.349      0.000       0.043       0.096\n",
            "Clicks        -0.6159      0.158     -3.888      0.000      -0.939      -0.293\n",
            "DOW           -2.8712      2.266     -1.267      0.214      -7.487       1.745\n",
            "==============================================================================\n",
            "Omnibus:                        2.439   Durbin-Watson:                   2.138\n",
            "Prob(Omnibus):                  0.295   Jarque-Bera (JB):                1.756\n",
            "Skew:                           0.349   Prob(JB):                        0.416\n",
            "Kurtosis:                       2.173   Cond. No.                     1.98e+04\n",
            "==============================================================================\n",
            "\n",
            "Warnings:\n",
            "[1] Standard Errors assume that the covariance matrix of the errors is correctly specified.\n",
            "[2] The condition number is large, 1.98e+04. This might indicate that there are\n",
            "strong multicollinearity or other numerical problems.\n"
          ]
        }
      ]
    },
    {
      "cell_type": "code",
      "source": [
        "pd.DataFrame(linear_regression.pvalues).reset_index().rename(columns={'index':'Terms', 0:'p_value'}).sort_values('p_value')"
      ],
      "metadata": {
        "colab": {
          "base_uri": "https://localhost:8080/",
          "height": 175
        },
        "id": "5EcxFVZEOCXX",
        "outputId": "4e85a1e1-cc0c-489b-c603-632c021f690e"
      },
      "execution_count": 52,
      "outputs": [
        {
          "output_type": "execute_result",
          "data": {
            "text/plain": [
              "        Terms   p_value\n",
              "1   Pageviews  0.000007\n",
              "2      Clicks  0.000479\n",
              "0  Experiment  0.120302\n",
              "3         DOW  0.214316"
            ],
            "text/html": [
              "\n",
              "  <div id=\"df-a63cefc1-8c19-4879-b451-105b98475a5c\">\n",
              "    <div class=\"colab-df-container\">\n",
              "      <div>\n",
              "<style scoped>\n",
              "    .dataframe tbody tr th:only-of-type {\n",
              "        vertical-align: middle;\n",
              "    }\n",
              "\n",
              "    .dataframe tbody tr th {\n",
              "        vertical-align: top;\n",
              "    }\n",
              "\n",
              "    .dataframe thead th {\n",
              "        text-align: right;\n",
              "    }\n",
              "</style>\n",
              "<table border=\"1\" class=\"dataframe\">\n",
              "  <thead>\n",
              "    <tr style=\"text-align: right;\">\n",
              "      <th></th>\n",
              "      <th>Terms</th>\n",
              "      <th>p_value</th>\n",
              "    </tr>\n",
              "  </thead>\n",
              "  <tbody>\n",
              "    <tr>\n",
              "      <th>1</th>\n",
              "      <td>Pageviews</td>\n",
              "      <td>0.000007</td>\n",
              "    </tr>\n",
              "    <tr>\n",
              "      <th>2</th>\n",
              "      <td>Clicks</td>\n",
              "      <td>0.000479</td>\n",
              "    </tr>\n",
              "    <tr>\n",
              "      <th>0</th>\n",
              "      <td>Experiment</td>\n",
              "      <td>0.120302</td>\n",
              "    </tr>\n",
              "    <tr>\n",
              "      <th>3</th>\n",
              "      <td>DOW</td>\n",
              "      <td>0.214316</td>\n",
              "    </tr>\n",
              "  </tbody>\n",
              "</table>\n",
              "</div>\n",
              "      <button class=\"colab-df-convert\" onclick=\"convertToInteractive('df-a63cefc1-8c19-4879-b451-105b98475a5c')\"\n",
              "              title=\"Convert this dataframe to an interactive table.\"\n",
              "              style=\"display:none;\">\n",
              "        \n",
              "  <svg xmlns=\"http://www.w3.org/2000/svg\" height=\"24px\"viewBox=\"0 0 24 24\"\n",
              "       width=\"24px\">\n",
              "    <path d=\"M0 0h24v24H0V0z\" fill=\"none\"/>\n",
              "    <path d=\"M18.56 5.44l.94 2.06.94-2.06 2.06-.94-2.06-.94-.94-2.06-.94 2.06-2.06.94zm-11 1L8.5 8.5l.94-2.06 2.06-.94-2.06-.94L8.5 2.5l-.94 2.06-2.06.94zm10 10l.94 2.06.94-2.06 2.06-.94-2.06-.94-.94-2.06-.94 2.06-2.06.94z\"/><path d=\"M17.41 7.96l-1.37-1.37c-.4-.4-.92-.59-1.43-.59-.52 0-1.04.2-1.43.59L10.3 9.45l-7.72 7.72c-.78.78-.78 2.05 0 2.83L4 21.41c.39.39.9.59 1.41.59.51 0 1.02-.2 1.41-.59l7.78-7.78 2.81-2.81c.8-.78.8-2.07 0-2.86zM5.41 20L4 18.59l7.72-7.72 1.47 1.35L5.41 20z\"/>\n",
              "  </svg>\n",
              "      </button>\n",
              "      \n",
              "  <style>\n",
              "    .colab-df-container {\n",
              "      display:flex;\n",
              "      flex-wrap:wrap;\n",
              "      gap: 12px;\n",
              "    }\n",
              "\n",
              "    .colab-df-convert {\n",
              "      background-color: #E8F0FE;\n",
              "      border: none;\n",
              "      border-radius: 50%;\n",
              "      cursor: pointer;\n",
              "      display: none;\n",
              "      fill: #1967D2;\n",
              "      height: 32px;\n",
              "      padding: 0 0 0 0;\n",
              "      width: 32px;\n",
              "    }\n",
              "\n",
              "    .colab-df-convert:hover {\n",
              "      background-color: #E2EBFA;\n",
              "      box-shadow: 0px 1px 2px rgba(60, 64, 67, 0.3), 0px 1px 3px 1px rgba(60, 64, 67, 0.15);\n",
              "      fill: #174EA6;\n",
              "    }\n",
              "\n",
              "    [theme=dark] .colab-df-convert {\n",
              "      background-color: #3B4455;\n",
              "      fill: #D2E3FC;\n",
              "    }\n",
              "\n",
              "    [theme=dark] .colab-df-convert:hover {\n",
              "      background-color: #434B5C;\n",
              "      box-shadow: 0px 1px 3px 1px rgba(0, 0, 0, 0.15);\n",
              "      filter: drop-shadow(0px 1px 2px rgba(0, 0, 0, 0.3));\n",
              "      fill: #FFFFFF;\n",
              "    }\n",
              "  </style>\n",
              "\n",
              "      <script>\n",
              "        const buttonEl =\n",
              "          document.querySelector('#df-a63cefc1-8c19-4879-b451-105b98475a5c button.colab-df-convert');\n",
              "        buttonEl.style.display =\n",
              "          google.colab.kernel.accessAllowed ? 'block' : 'none';\n",
              "\n",
              "        async function convertToInteractive(key) {\n",
              "          const element = document.querySelector('#df-a63cefc1-8c19-4879-b451-105b98475a5c');\n",
              "          const dataTable =\n",
              "            await google.colab.kernel.invokeFunction('convertToInteractive',\n",
              "                                                     [key], {});\n",
              "          if (!dataTable) return;\n",
              "\n",
              "          const docLinkHtml = 'Like what you see? Visit the ' +\n",
              "            '<a target=\"_blank\" href=https://colab.research.google.com/notebooks/data_table.ipynb>data table notebook</a>'\n",
              "            + ' to learn more about interactive tables.';\n",
              "          element.innerHTML = '';\n",
              "          dataTable['output_type'] = 'display_data';\n",
              "          await google.colab.output.renderOutput(dataTable, element);\n",
              "          const docLink = document.createElement('div');\n",
              "          docLink.innerHTML = docLinkHtml;\n",
              "          element.appendChild(docLink);\n",
              "        }\n",
              "      </script>\n",
              "    </div>\n",
              "  </div>\n",
              "  "
            ]
          },
          "metadata": {},
          "execution_count": 52
        }
      ]
    },
    {
      "cell_type": "markdown",
      "source": [
        "## Model 2 : Decision Tree"
      ],
      "metadata": {
        "id": "LoaCu-1VRWJR"
      }
    },
    {
      "cell_type": "code",
      "source": [
        "from sklearn.tree import DecisionTreeRegressor\n",
        "\n",
        "tree = DecisionTreeRegressor(max_depth=3, min_samples_leaf=2, random_state=2)\n",
        "tree.fit(X_train, y_train)\n",
        "y_pred = tree.predict(X_test)\n",
        "\n",
        "print_metrics(y_test, y_pred)"
      ],
      "metadata": {
        "colab": {
          "base_uri": "https://localhost:8080/"
        },
        "id": "6K-_1LhxQD47",
        "outputId": "73dc7fd8-e73f-4ae3-f383-5fbde0d6941a"
      },
      "execution_count": 53,
      "outputs": [
        {
          "output_type": "stream",
          "name": "stdout",
          "text": [
            "RMSE_score : 22.543891430192936\n",
            "R2_socre : 0.5312423530563304\n",
            "MAE_score : 20.735714285714288\n"
          ]
        }
      ]
    },
    {
      "cell_type": "code",
      "source": [
        "plot_pred(y_test, y_pred, 'Decision Tree')"
      ],
      "metadata": {
        "colab": {
          "base_uri": "https://localhost:8080/",
          "height": 354
        },
        "id": "WQUSnXVBXE2S",
        "outputId": "54cf5626-ff34-469a-cf31-fb7b8b58717f"
      },
      "execution_count": 54,
      "outputs": [
        {
          "output_type": "display_data",
          "data": {
            "text/plain": [
              "<Figure size 720x360 with 1 Axes>"
            ],
            "image/png": "[encoded data removed]"
          },
          "metadata": {
            "needs_background": "light"
          }
        }
      ]
    },
    {
      "cell_type": "code",
      "source": [
        "import graphviz\n",
        "from sklearn.tree import export_graphviz\n",
        "\n",
        "dot_data = export_graphviz(tree\n",
        "                          , max_depth=6\n",
        "                          , feature_names=X_train.columns\n",
        "                          , class_names=['no', 'yes']\n",
        "                          , filled=True\n",
        "                          , proportion=True)\n",
        "\n",
        "display(graphviz.Source(dot_data))"
      ],
      "metadata": {
        "colab": {
          "base_uri": "https://localhost:8080/",
          "height": 519
        },
        "id": "bOiB_VvWXPrP",
        "outputId": "8e832fa3-8329-407e-f5ca-5b6abb183a13"
      },
      "execution_count": 55,
      "outputs": [
        {
          "output_type": "display_data",
          "data": {
            "text/plain": [
              "<graphviz.files.Source at 0x7f4fb3d8b310>"
            ],
            "image/svg+xml": "<?xml version=\"1.0\" encoding=\"UTF-8\" standalone=\"no\"?>\n<!DOCTYPE svg PUBLIC \"-//W3C//DTD SVG 1.1//EN\"\n \"http://www.w3.org/Graphics/SVG/1.1/DTD/svg11.dtd\">\n<!-- Generated by graphviz version 2.40.1 (20161225.0304)\n -->\n<!-- Title: Tree Pages: 1 -->\n<svg width=\"1102pt\" height=\"373pt\"\n viewBox=\"0.00 0.00 1101.50 373.00\" xmlns=\"http://www.w3.org/2000/svg\" xmlns:xlink=\"http://www.w3.org/1999/xlink\">\n<g id=\"graph0\" class=\"graph\" transform=\"scale(1 1) rotate(0) translate(4 369)\">\n<title>Tree</title>\n<polygon fill=\"#ffffff\" stroke=\"transparent\" points=\"-4,4 -4,-369 1097.5,-369 1097.5,4 -4,4\"/>\n<!-- 0 -->\n<g id=\"node1\" class=\"node\">\n<title>0</title>\n<polygon fill=\"#f4ccae\" stroke=\"#000000\" points=\"605.5,-365 444.5,-365 444.5,-297 605.5,-297 605.5,-365\"/>\n<text text-anchor=\"middle\" x=\"525\" y=\"-349.8\" font-family=\"Helvetica,sans-Serif\" font-size=\"14.00\" fill=\"#000000\">Pageviews &lt;= 8678.0</text>\n<text text-anchor=\"middle\" x=\"525\" y=\"-334.8\" font-family=\"Helvetica,sans-Serif\" font-size=\"14.00\" fill=\"#000000\">squared_error = 961.5</text>\n<text text-anchor=\"middle\" x=\"525\" y=\"-319.8\" font-family=\"Helvetica,sans-Serif\" font-size=\"14.00\" fill=\"#000000\">samples = 100.0%</text>\n<text text-anchor=\"middle\" x=\"525\" y=\"-304.8\" font-family=\"Helvetica,sans-Serif\" font-size=\"14.00\" fill=\"#000000\">value = 159.667</text>\n</g>\n<!-- 1 -->\n<g id=\"node2\" class=\"node\">\n<title>1</title>\n<polygon fill=\"#fcf0e8\" stroke=\"#000000\" points=\"516.5,-261 339.5,-261 339.5,-193 516.5,-193 516.5,-261\"/>\n<text text-anchor=\"middle\" x=\"428\" y=\"-245.8\" font-family=\"Helvetica,sans-Serif\" font-size=\"14.00\" fill=\"#000000\">Pageviews &lt;= 8459.5</text>\n<text text-anchor=\"middle\" x=\"428\" y=\"-230.8\" font-family=\"Helvetica,sans-Serif\" font-size=\"14.00\" fill=\"#000000\">squared_error = 156.734</text>\n<text text-anchor=\"middle\" x=\"428\" y=\"-215.8\" font-family=\"Helvetica,sans-Serif\" font-size=\"14.00\" fill=\"#000000\">samples = 22.2%</text>\n<text text-anchor=\"middle\" x=\"428\" y=\"-200.8\" font-family=\"Helvetica,sans-Serif\" font-size=\"14.00\" fill=\"#000000\">value = 128.375</text>\n</g>\n<!-- 0&#45;&gt;1 -->\n<g id=\"edge1\" class=\"edge\">\n<title>0&#45;&gt;1</title>\n<path fill=\"none\" stroke=\"#000000\" d=\"M493.2386,-296.9465C484.7806,-287.8782 475.5486,-277.9799 466.7613,-268.5585\"/>\n<polygon fill=\"#000000\" stroke=\"#000000\" points=\"469.213,-266.0557 459.8328,-261.13 464.094,-270.8302 469.213,-266.0557\"/>\n<text text-anchor=\"middle\" x=\"458.9627\" y=\"-282.4148\" font-family=\"Helvetica,sans-Serif\" font-size=\"14.00\" fill=\"#000000\">True</text>\n</g>\n<!-- 6 -->\n<g id=\"node7\" class=\"node\">\n<title>6</title>\n<polygon fill=\"#f2c19e\" stroke=\"#000000\" points=\"711.5,-261 534.5,-261 534.5,-193 711.5,-193 711.5,-261\"/>\n<text text-anchor=\"middle\" x=\"623\" y=\"-245.8\" font-family=\"Helvetica,sans-Serif\" font-size=\"14.00\" fill=\"#000000\">Clicks &lt;= 775.0</text>\n<text text-anchor=\"middle\" x=\"623\" y=\"-230.8\" font-family=\"Helvetica,sans-Serif\" font-size=\"14.00\" fill=\"#000000\">squared_error = 831.739</text>\n<text text-anchor=\"middle\" x=\"623\" y=\"-215.8\" font-family=\"Helvetica,sans-Serif\" font-size=\"14.00\" fill=\"#000000\">samples = 77.8%</text>\n<text text-anchor=\"middle\" x=\"623\" y=\"-200.8\" font-family=\"Helvetica,sans-Serif\" font-size=\"14.00\" fill=\"#000000\">value = 168.607</text>\n</g>\n<!-- 0&#45;&gt;6 -->\n<g id=\"edge6\" class=\"edge\">\n<title>0&#45;&gt;6</title>\n<path fill=\"none\" stroke=\"#000000\" d=\"M557.0889,-296.9465C565.634,-287.8782 574.9613,-277.9799 583.8391,-268.5585\"/>\n<polygon fill=\"#000000\" stroke=\"#000000\" points=\"586.5283,-270.8082 590.839,-261.13 581.4337,-266.0076 586.5283,-270.8082\"/>\n<text text-anchor=\"middle\" x=\"591.5813\" y=\"-282.419\" font-family=\"Helvetica,sans-Serif\" font-size=\"14.00\" fill=\"#000000\">False</text>\n</g>\n<!-- 2 -->\n<g id=\"node3\" class=\"node\">\n<title>2</title>\n<polygon fill=\"#fdf6f0\" stroke=\"#000000\" points=\"326.5,-157 157.5,-157 157.5,-89 326.5,-89 326.5,-157\"/>\n<text text-anchor=\"middle\" x=\"242\" y=\"-141.8\" font-family=\"Helvetica,sans-Serif\" font-size=\"14.00\" fill=\"#000000\">Clicks &lt;= 653.5</text>\n<text text-anchor=\"middle\" x=\"242\" y=\"-126.8\" font-family=\"Helvetica,sans-Serif\" font-size=\"14.00\" fill=\"#000000\">squared_error = 62.333</text>\n<text text-anchor=\"middle\" x=\"242\" y=\"-111.8\" font-family=\"Helvetica,sans-Serif\" font-size=\"14.00\" fill=\"#000000\">samples = 16.7%</text>\n<text text-anchor=\"middle\" x=\"242\" y=\"-96.8\" font-family=\"Helvetica,sans-Serif\" font-size=\"14.00\" fill=\"#000000\">value = 124.0</text>\n</g>\n<!-- 1&#45;&gt;2 -->\n<g id=\"edge2\" class=\"edge\">\n<title>1&#45;&gt;2</title>\n<path fill=\"none\" stroke=\"#000000\" d=\"M367.0966,-192.9465C349.4331,-183.0701 330.0089,-172.2093 311.8434,-162.0522\"/>\n<polygon fill=\"#000000\" stroke=\"#000000\" points=\"313.4766,-158.9555 303.0402,-157.13 310.0603,-165.0653 313.4766,-158.9555\"/>\n</g>\n<!-- 5 -->\n<g id=\"node6\" class=\"node\">\n<title>5</title>\n<polygon fill=\"#f9e1d0\" stroke=\"#000000\" points=\"513.5,-149.5 344.5,-149.5 344.5,-96.5 513.5,-96.5 513.5,-149.5\"/>\n<text text-anchor=\"middle\" x=\"429\" y=\"-134.3\" font-family=\"Helvetica,sans-Serif\" font-size=\"14.00\" fill=\"#000000\">squared_error = 210.25</text>\n<text text-anchor=\"middle\" x=\"429\" y=\"-119.3\" font-family=\"Helvetica,sans-Serif\" font-size=\"14.00\" fill=\"#000000\">samples = 5.6%</text>\n<text text-anchor=\"middle\" x=\"429\" y=\"-104.3\" font-family=\"Helvetica,sans-Serif\" font-size=\"14.00\" fill=\"#000000\">value = 141.5</text>\n</g>\n<!-- 1&#45;&gt;5 -->\n<g id=\"edge5\" class=\"edge\">\n<title>1&#45;&gt;5</title>\n<path fill=\"none\" stroke=\"#000000\" d=\"M428.3274,-192.9465C428.4302,-182.2621 428.544,-170.4254 428.6483,-159.5742\"/>\n<polygon fill=\"#000000\" stroke=\"#000000\" points=\"432.1484,-159.5754 428.7448,-149.5422 425.1487,-159.508 432.1484,-159.5754\"/>\n</g>\n<!-- 3 -->\n<g id=\"node4\" class=\"node\">\n<title>3</title>\n<polygon fill=\"#ffffff\" stroke=\"#000000\" points=\"152,-53 0,-53 0,0 152,0 152,-53\"/>\n<text text-anchor=\"middle\" x=\"76\" y=\"-37.8\" font-family=\"Helvetica,sans-Serif\" font-size=\"14.00\" fill=\"#000000\">squared_error = 36.0</text>\n<text text-anchor=\"middle\" x=\"76\" y=\"-22.8\" font-family=\"Helvetica,sans-Serif\" font-size=\"14.00\" fill=\"#000000\">samples = 5.6%</text>\n<text text-anchor=\"middle\" x=\"76\" y=\"-7.8\" font-family=\"Helvetica,sans-Serif\" font-size=\"14.00\" fill=\"#000000\">value = 116.0</text>\n</g>\n<!-- 2&#45;&gt;3 -->\n<g id=\"edge3\" class=\"edge\">\n<title>2&#45;&gt;3</title>\n<path fill=\"none\" stroke=\"#000000\" d=\"M183.4746,-88.9777C166.2256,-78.9504 147.4277,-68.0228 130.446,-58.1508\"/>\n<polygon fill=\"#000000\" stroke=\"#000000\" points=\"132.1533,-55.095 121.749,-53.095 128.6353,-61.1467 132.1533,-55.095\"/>\n</g>\n<!-- 4 -->\n<g id=\"node5\" class=\"node\">\n<title>4</title>\n<polygon fill=\"#fcf1e9\" stroke=\"#000000\" points=\"322,-53 170,-53 170,0 322,0 322,-53\"/>\n<text text-anchor=\"middle\" x=\"246\" y=\"-37.8\" font-family=\"Helvetica,sans-Serif\" font-size=\"14.00\" fill=\"#000000\">squared_error = 27.5</text>\n<text text-anchor=\"middle\" x=\"246\" y=\"-22.8\" font-family=\"Helvetica,sans-Serif\" font-size=\"14.00\" fill=\"#000000\">samples = 11.1%</text>\n<text text-anchor=\"middle\" x=\"246\" y=\"-7.8\" font-family=\"Helvetica,sans-Serif\" font-size=\"14.00\" fill=\"#000000\">value = 128.0</text>\n</g>\n<!-- 2&#45;&gt;4 -->\n<g id=\"edge4\" class=\"edge\">\n<title>2&#45;&gt;4</title>\n<path fill=\"none\" stroke=\"#000000\" d=\"M243.4103,-88.9777C243.7519,-80.7364 244.1187,-71.887 244.4657,-63.5153\"/>\n<polygon fill=\"#000000\" stroke=\"#000000\" points=\"247.974,-63.3849 244.8913,-53.2485 240.98,-63.0949 247.974,-63.3849\"/>\n</g>\n<!-- 7 -->\n<g id=\"node8\" class=\"node\">\n<title>7</title>\n<polygon fill=\"#edaa7a\" stroke=\"#000000\" points=\"710.5,-157 533.5,-157 533.5,-89 710.5,-89 710.5,-157\"/>\n<text text-anchor=\"middle\" x=\"622\" y=\"-141.8\" font-family=\"Helvetica,sans-Serif\" font-size=\"14.00\" fill=\"#000000\">Pageviews &lt;= 9468.5</text>\n<text text-anchor=\"middle\" x=\"622\" y=\"-126.8\" font-family=\"Helvetica,sans-Serif\" font-size=\"14.00\" fill=\"#000000\">squared_error = 513.209</text>\n<text text-anchor=\"middle\" x=\"622\" y=\"-111.8\" font-family=\"Helvetica,sans-Serif\" font-size=\"14.00\" fill=\"#000000\">samples = 38.9%</text>\n<text text-anchor=\"middle\" x=\"622\" y=\"-96.8\" font-family=\"Helvetica,sans-Serif\" font-size=\"14.00\" fill=\"#000000\">value = 188.071</text>\n</g>\n<!-- 6&#45;&gt;7 -->\n<g id=\"edge7\" class=\"edge\">\n<title>6&#45;&gt;7</title>\n<path fill=\"none\" stroke=\"#000000\" d=\"M622.6726,-192.9465C622.594,-184.776 622.509,-175.9318 622.4266,-167.3697\"/>\n<polygon fill=\"#000000\" stroke=\"#000000\" points=\"625.9243,-167.0958 622.3282,-157.13 618.9246,-167.1632 625.9243,-167.0958\"/>\n</g>\n<!-- 10 -->\n<g id=\"node11\" class=\"node\">\n<title>10</title>\n<polygon fill=\"#f7d8c2\" stroke=\"#000000\" points=\"905.5,-157 728.5,-157 728.5,-89 905.5,-89 905.5,-157\"/>\n<text text-anchor=\"middle\" x=\"817\" y=\"-141.8\" font-family=\"Helvetica,sans-Serif\" font-size=\"14.00\" fill=\"#000000\">Pageviews &lt;= 9869.0</text>\n<text text-anchor=\"middle\" x=\"817\" y=\"-126.8\" font-family=\"Helvetica,sans-Serif\" font-size=\"14.00\" fill=\"#000000\">squared_error = 392.551</text>\n<text text-anchor=\"middle\" x=\"817\" y=\"-111.8\" font-family=\"Helvetica,sans-Serif\" font-size=\"14.00\" fill=\"#000000\">samples = 38.9%</text>\n<text text-anchor=\"middle\" x=\"817\" y=\"-96.8\" font-family=\"Helvetica,sans-Serif\" font-size=\"14.00\" fill=\"#000000\">value = 149.143</text>\n</g>\n<!-- 6&#45;&gt;10 -->\n<g id=\"edge10\" class=\"edge\">\n<title>6&#45;&gt;10</title>\n<path fill=\"none\" stroke=\"#000000\" d=\"M686.5229,-192.9465C705.0299,-183.0252 725.39,-172.1105 744.4109,-161.9138\"/>\n<polygon fill=\"#000000\" stroke=\"#000000\" points=\"746.1746,-164.9395 753.3344,-157.13 742.8673,-158.7701 746.1746,-164.9395\"/>\n</g>\n<!-- 8 -->\n<g id=\"node9\" class=\"node\">\n<title>8</title>\n<polygon fill=\"#efb184\" stroke=\"#000000\" points=\"527.5,-53 350.5,-53 350.5,0 527.5,0 527.5,-53\"/>\n<text text-anchor=\"middle\" x=\"439\" y=\"-37.8\" font-family=\"Helvetica,sans-Serif\" font-size=\"14.00\" fill=\"#000000\">squared_error = 344.854</text>\n<text text-anchor=\"middle\" x=\"439\" y=\"-22.8\" font-family=\"Helvetica,sans-Serif\" font-size=\"14.00\" fill=\"#000000\">samples = 33.3%</text>\n<text text-anchor=\"middle\" x=\"439\" y=\"-7.8\" font-family=\"Helvetica,sans-Serif\" font-size=\"14.00\" fill=\"#000000\">value = 182.25</text>\n</g>\n<!-- 7&#45;&gt;8 -->\n<g id=\"edge8\" class=\"edge\">\n<title>7&#45;&gt;8</title>\n<path fill=\"none\" stroke=\"#000000\" d=\"M557.481,-88.9777C538.2911,-78.8584 517.3623,-67.8222 498.507,-57.8794\"/>\n<polygon fill=\"#000000\" stroke=\"#000000\" points=\"499.9122,-54.6636 489.4341,-53.095 496.647,-60.8554 499.9122,-54.6636\"/>\n</g>\n<!-- 9 -->\n<g id=\"node10\" class=\"node\">\n<title>9</title>\n<polygon fill=\"#e58139\" stroke=\"#000000\" points=\"706.5,-53 545.5,-53 545.5,0 706.5,0 706.5,-53\"/>\n<text text-anchor=\"middle\" x=\"626\" y=\"-37.8\" font-family=\"Helvetica,sans-Serif\" font-size=\"14.00\" fill=\"#000000\">squared_error = 100.0</text>\n<text text-anchor=\"middle\" x=\"626\" y=\"-22.8\" font-family=\"Helvetica,sans-Serif\" font-size=\"14.00\" fill=\"#000000\">samples = 5.6%</text>\n<text text-anchor=\"middle\" x=\"626\" y=\"-7.8\" font-family=\"Helvetica,sans-Serif\" font-size=\"14.00\" fill=\"#000000\">value = 223.0</text>\n</g>\n<!-- 7&#45;&gt;9 -->\n<g id=\"edge9\" class=\"edge\">\n<title>7&#45;&gt;9</title>\n<path fill=\"none\" stroke=\"#000000\" d=\"M623.4103,-88.9777C623.7519,-80.7364 624.1187,-71.887 624.4657,-63.5153\"/>\n<polygon fill=\"#000000\" stroke=\"#000000\" points=\"627.974,-63.3849 624.8913,-53.2485 620.98,-63.0949 627.974,-63.3849\"/>\n</g>\n<!-- 11 -->\n<g id=\"node12\" class=\"node\">\n<title>11</title>\n<polygon fill=\"#fbeade\" stroke=\"#000000\" points=\"898.5,-53 729.5,-53 729.5,0 898.5,0 898.5,-53\"/>\n<text text-anchor=\"middle\" x=\"814\" y=\"-37.8\" font-family=\"Helvetica,sans-Serif\" font-size=\"14.00\" fill=\"#000000\">squared_error = 88.776</text>\n<text text-anchor=\"middle\" x=\"814\" y=\"-22.8\" font-family=\"Helvetica,sans-Serif\" font-size=\"14.00\" fill=\"#000000\">samples = 19.4%</text>\n<text text-anchor=\"middle\" x=\"814\" y=\"-7.8\" font-family=\"Helvetica,sans-Serif\" font-size=\"14.00\" fill=\"#000000\">value = 133.714</text>\n</g>\n<!-- 10&#45;&gt;11 -->\n<g id=\"edge11\" class=\"edge\">\n<title>10&#45;&gt;11</title>\n<path fill=\"none\" stroke=\"#000000\" d=\"M815.9423,-88.9777C815.6861,-80.7364 815.411,-71.887 815.1507,-63.5153\"/>\n<polygon fill=\"#000000\" stroke=\"#000000\" points=\"818.6407,-63.1349 814.8316,-53.2485 811.6441,-63.3524 818.6407,-63.1349\"/>\n</g>\n<!-- 12 -->\n<g id=\"node13\" class=\"node\">\n<title>12</title>\n<polygon fill=\"#f3c6a5\" stroke=\"#000000\" points=\"1093.5,-53 916.5,-53 916.5,0 1093.5,0 1093.5,-53\"/>\n<text text-anchor=\"middle\" x=\"1005\" y=\"-37.8\" font-family=\"Helvetica,sans-Serif\" font-size=\"14.00\" fill=\"#000000\">squared_error = 220.245</text>\n<text text-anchor=\"middle\" x=\"1005\" y=\"-22.8\" font-family=\"Helvetica,sans-Serif\" font-size=\"14.00\" fill=\"#000000\">samples = 19.4%</text>\n<text text-anchor=\"middle\" x=\"1005\" y=\"-7.8\" font-family=\"Helvetica,sans-Serif\" font-size=\"14.00\" fill=\"#000000\">value = 164.571</text>\n</g>\n<!-- 10&#45;&gt;12 -->\n<g id=\"edge12\" class=\"edge\">\n<title>10&#45;&gt;12</title>\n<path fill=\"none\" stroke=\"#000000\" d=\"M883.2818,-88.9777C903.0857,-78.8124 924.6922,-67.7218 944.1311,-57.7439\"/>\n<polygon fill=\"#000000\" stroke=\"#000000\" points=\"945.8898,-60.7754 953.1879,-53.095 942.6932,-54.5478 945.8898,-60.7754\"/>\n</g>\n</g>\n</svg>\n"
          },
          "metadata": {}
        }
      ]
    },
    {
      "cell_type": "markdown",
      "source": [
        "## Model 3 : XGBoost"
      ],
      "metadata": {
        "id": "w03CdDpZhERF"
      }
    },
    {
      "cell_type": "code",
      "source": [
        "from xgboost import XGBRegressor\n",
        "\n",
        "XGB = XGBRegressor(max_depth= 5,\n",
        "                   objective='reg:linear',\n",
        "                   booster= 'gblinear',\n",
        "                   n_estimators= 1000,\n",
        "                   learning_rate = 0.2,\n",
        "                   gamma = 0.01,\n",
        "                   random_state = 2,\n",
        "                   subsample = 1)\n",
        "\n",
        "XGB.fit(X_train, y_train)"
      ],
      "metadata": {
        "colab": {
          "base_uri": "https://localhost:8080/"
        },
        "id": "w7gC8M5phD9N",
        "outputId": "0316298b-88c6-44b8-f2f8-2d5575a7200c"
      },
      "execution_count": 56,
      "outputs": [
        {
          "output_type": "stream",
          "name": "stdout",
          "text": [
            "[11:31:50] WARNING: /workspace/src/objective/regression_obj.cu:152: reg:linear is now deprecated in favor of reg:squarederror.\n"
          ]
        },
        {
          "output_type": "execute_result",
          "data": {
            "text/plain": [
              "XGBRegressor(booster='gblinear', gamma=0.01, learning_rate=0.2, max_depth=5,\n",
              "             n_estimators=1000, random_state=2)"
            ]
          },
          "metadata": {},
          "execution_count": 56
        }
      ]
    },
    {
      "cell_type": "code",
      "source": [
        "y_pred = XGB.predict(X_test)\n",
        "print_metrics(y_test, y_pred)"
      ],
      "metadata": {
        "colab": {
          "base_uri": "https://localhost:8080/"
        },
        "id": "FbNftoAGhf6l",
        "outputId": "ae9afa41-cd37-4fa1-f4ad-4b25010ad834"
      },
      "execution_count": 57,
      "outputs": [
        {
          "output_type": "stream",
          "name": "stdout",
          "text": [
            "RMSE_score : 31.536692085228957\n",
            "R2_socre : 0.08267575384749792\n",
            "MAE_score : 26.24346160888672\n"
          ]
        }
      ]
    },
    {
      "cell_type": "code",
      "source": [
        "plot_pred(y_test, y_pred, 'XGBoost')"
      ],
      "metadata": {
        "colab": {
          "base_uri": "https://localhost:8080/",
          "height": 354
        },
        "id": "N4vIOSPCiiuG",
        "outputId": "57180c2b-40ca-4f56-9c41-7abbdc10ccad"
      },
      "execution_count": 58,
      "outputs": [
        {
          "output_type": "display_data",
          "data": {
            "text/plain": [
              "<Figure size 720x360 with 1 Axes>"
            ],
            "image/png": "[encoded data removed]"
          },
          "metadata": {
            "needs_background": "light"
          }
        }
      ]
    },
    {
      "cell_type": "markdown",
      "source": [
        "### 머신러닝 순열 중요도 구현\n",
        "\n",
        "- 데이터의 갯수가 적기 때문에 XGB의 성능이 현저히 떨어짐\n",
        "- 단순한 데이터에 대해서는 Linear 모델의 성능이 뛰어남\n",
        "- "
      ],
      "metadata": {
        "id": "WpXmkfZi9LgO"
      }
    },
    {
      "cell_type": "code",
      "source": [
        "!pip install eli5"
      ],
      "metadata": {
        "colab": {
          "base_uri": "https://localhost:8080/"
        },
        "id": "NFkOJsES13z-",
        "outputId": "a8845cf9-a7b1-47ae-c028-491be8d6febe"
      },
      "execution_count": 134,
      "outputs": [
        {
          "output_type": "stream",
          "name": "stdout",
          "text": [
            "Collecting eli5\n",
            "  Downloading eli5-0.11.0-py2.py3-none-any.whl (106 kB)\n",
            "\u001b[?25l\r\u001b[K     |███                             | 10 kB 17.7 MB/s eta 0:00:01\r\u001b[K     |██████▏                         | 20 kB 20.8 MB/s eta 0:00:01\r\u001b[K     |█████████▎                      | 30 kB 12.1 MB/s eta 0:00:01\r\u001b[K     |████████████▍                   | 40 kB 10.1 MB/s eta 0:00:01\r\u001b[K     |███████████████▌                | 51 kB 7.3 MB/s eta 0:00:01\r\u001b[K     |██████████████████▌             | 61 kB 8.5 MB/s eta 0:00:01\r\u001b[K     |█████████████████████▋          | 71 kB 6.3 MB/s eta 0:00:01\r\u001b[K     |████████████████████████▊       | 81 kB 7.0 MB/s eta 0:00:01\r\u001b[K     |███████████████████████████▉    | 92 kB 7.7 MB/s eta 0:00:01\r\u001b[K     |███████████████████████████████ | 102 kB 8.4 MB/s eta 0:00:01\r\u001b[K     |████████████████████████████████| 106 kB 8.4 MB/s \n",
            "\u001b[?25hRequirement already satisfied: tabulate>=0.7.7 in /usr/local/lib/python3.7/dist-packages (from eli5) (0.8.9)\n",
            "Requirement already satisfied: numpy>=1.9.0 in /usr/local/lib/python3.7/dist-packages (from eli5) (1.21.6)\n",
            "Requirement already satisfied: graphviz in /usr/local/lib/python3.7/dist-packages (from eli5) (0.10.1)\n",
            "Requirement already satisfied: scikit-learn>=0.20 in /usr/local/lib/python3.7/dist-packages (from eli5) (1.0.2)\n",
            "Requirement already satisfied: scipy in /usr/local/lib/python3.7/dist-packages (from eli5) (1.4.1)\n",
            "Requirement already satisfied: jinja2 in /usr/local/lib/python3.7/dist-packages (from eli5) (2.11.3)\n",
            "Requirement already satisfied: attrs>16.0.0 in /usr/local/lib/python3.7/dist-packages (from eli5) (21.4.0)\n",
            "Requirement already satisfied: six in /usr/local/lib/python3.7/dist-packages (from eli5) (1.15.0)\n",
            "Requirement already satisfied: threadpoolctl>=2.0.0 in /usr/local/lib/python3.7/dist-packages (from scikit-learn>=0.20->eli5) (3.1.0)\n",
            "Requirement already satisfied: joblib>=0.11 in /usr/local/lib/python3.7/dist-packages (from scikit-learn>=0.20->eli5) (1.1.0)\n",
            "Requirement already satisfied: MarkupSafe>=0.23 in /usr/local/lib/python3.7/dist-packages (from jinja2->eli5) (2.0.1)\n",
            "Installing collected packages: eli5\n",
            "Successfully installed eli5-0.11.0\n"
          ]
        }
      ]
    },
    {
      "cell_type": "code",
      "source": [
        "import warnings\n",
        "warnings.simplefilter(action='ignore', category=FutureWarning)\n",
        "\n",
        "import eli5\n",
        "from eli5.sklearn import PermutationImportance\n",
        "\n",
        "permuter = PermutationImportance(\n",
        "    tree, # model\n",
        "    scoring='neg_mean_squared_log_error', # metric\n",
        "    n_iter=5, # 다른 random seed를 사용하여 5번 반복\n",
        "    random_state=2\n",
        ")\n"
      ],
      "metadata": {
        "id": "EmRm4wFO1hGk"
      },
      "execution_count": 157,
      "outputs": []
    },
    {
      "cell_type": "code",
      "source": [
        "permuter.fit(X_train, y_train)"
      ],
      "metadata": {
        "colab": {
          "base_uri": "https://localhost:8080/"
        },
        "id": "XMJtRUlw1-yW",
        "outputId": "3267d355-cb44-4452-b558-b56859861092"
      },
      "execution_count": 158,
      "outputs": [
        {
          "output_type": "execute_result",
          "data": {
            "text/plain": [
              "PermutationImportance(estimator=DecisionTreeRegressor(max_depth=3,\n",
              "                                                      min_samples_leaf=2,\n",
              "                                                      random_state=2),\n",
              "                      random_state=2, scoring='neg_mean_squared_log_error')"
            ]
          },
          "metadata": {},
          "execution_count": 158
        }
      ]
    },
    {
      "cell_type": "code",
      "source": [
        "feature_names = X_train.columns.tolist()"
      ],
      "metadata": {
        "id": "_3pZ-nmU2QoD"
      },
      "execution_count": 159,
      "outputs": []
    },
    {
      "cell_type": "code",
      "source": [
        "importances = pd.Series(permuter.feature_importances_, feature_names).sort_values()"
      ],
      "metadata": {
        "id": "bZB_TkZW2UJ0"
      },
      "execution_count": 161,
      "outputs": []
    },
    {
      "cell_type": "code",
      "source": [
        "%matplotlib inline\n",
        "import matplotlib.pyplot as plt\n",
        "\n",
        "\n",
        "plt.figure(figsize=(7,5))\n",
        "plt.title('importance features')\n",
        "importances.sort_values()[-n:].plot.barh();"
      ],
      "metadata": {
        "colab": {
          "base_uri": "https://localhost:8080/",
          "height": 337
        },
        "id": "F4kQFm9023o6",
        "outputId": "bb187ea2-76ee-43b7-c59e-1f1e76f4b543"
      },
      "execution_count": 169,
      "outputs": [
        {
          "output_type": "display_data",
          "data": {
            "text/plain": [
              "<Figure size 504x360 with 1 Axes>"
            ],
            "image/png": "[encoded data removed]"
          },
          "metadata": {
            "needs_background": "light"
          }
        }
      ]
    },
    {
      "cell_type": "markdown",
      "source": [
        "### 머신러닝 결과 해석\n",
        "\n"
      ],
      "metadata": {
        "id": "h9KZq-0q7DcG"
      }
    },
    {
      "cell_type": "markdown",
      "source": [
        "1) 모델 성능\n",
        "\n",
        "- 데이터의 갯수가 적기 때문에 XGB의 성능이 현저히 떨어짐\n",
        "- 단순한 데이터에 대해서는 Linear 모델의 성능이 뛰어남\n",
        "- Tree 모델도 준수한 성능을 보였으나, Linear 모델의 성능이 더욱 뛰어난 것을 확인"
      ],
      "metadata": {
        "id": "okYXcN4o9BaQ"
      }
    },
    {
      "cell_type": "markdown",
      "source": [
        "2) 특성 간 관계 분석\n",
        "- 'Start free trial' 버튼 클릭 수가 많아질 수록 'Enrollments(과정 무료 등록)'는 감소함 \n",
        "  - Enrollments 감소를 의도한 실험군 데이터가 섞여 있기 때문에 Enrollments가 감소한 것으로 보임\n",
        "  - 즉, 새로운 기능이 Enrollments 감소에 유의미한 역할을 한다고 해석할 수 있음\n",
        "- 'Course overview' 페이지 조회 수가 많아질 수록 'Enrollments(과정 무료 등록)'는 증가함\n",
        "  - Course overview 페이지에는 Enrollment 감소를 위한 별도의 기능을 추가하지 않았기 때문에 페이지 조회수가 늘수록 Enrollment가 증가하는 것으로 볼 수 있음\n",
        "  - Enrollment를 더 줄이려는 비즈니스 목적이 있다면 Course overview 페이지에도 새로운 기능을 추가하는 것이 좋음\n",
        "\n",
        "- 실험군일 때 Enrollments의 감소가 나타남\n",
        "  - 실험군 여부와 Enrollments는 음의 회귀계수로 나타남\n",
        "  - 다만, 통계적으로 유의미한 수준은 아니기 때문에 해석에 주의가 필요함\n",
        "\n",
        "3) Enrollments에 영향을 주는 주요 특성\n",
        "- Pageviews와 Clicks이 Enrollments에 가장 큰 영향을 미침\n",
        "- 비즈니스 목적을 달성하기 위해서 Pageview와 Click을 조절할 필요가 있음"
      ],
      "metadata": {
        "id": "nN22kbZL9030"
      }
    }
  ],
  "metadata": {
    "colab": {
      "name": "A-B-test-project.ipynb",
      "provenance": [],
      "collapsed_sections": []
    },
    "kernelspec": {
      "display_name": "Python 3",
      "name": "python3"
    },
    "language_info": {
      "name": "python"
    }
  },
  "nbformat": 4,
  "nbformat_minor": 0
}